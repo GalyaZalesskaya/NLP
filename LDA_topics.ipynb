{
 "cells": [
  {
   "cell_type": "markdown",
   "metadata": {
    "colab_type": "text",
    "id": "uqAJiOTUsJZf"
   },
   "source": [
    "# Лабораторная работа №5\n",
    "\n",
    "Подготовили :\n",
    "- Залесская Галя;\n",
    "- Максимов Артем;\n",
    "- Соколова Света;\n",
    "- Шилов Слава."
   ]
  },
  {
   "cell_type": "code",
   "execution_count": 0,
   "metadata": {
    "colab": {},
    "colab_type": "code",
    "id": "SsTH0kTYA7h8"
   },
   "outputs": [],
   "source": [
    "from lxml import objectify, etree, html\n",
    "import numpy as np"
   ]
  },
  {
   "cell_type": "code",
   "execution_count": 0,
   "metadata": {
    "colab": {
     "base_uri": "https://localhost:8080/",
     "height": 124
    },
    "colab_type": "code",
    "id": "Wsq9LeI3BML-",
    "outputId": "0d35d18f-5fcb-419f-c742-34e863ef7915"
   },
   "outputs": [
    {
     "name": "stdout",
     "output_type": "stream",
     "text": [
      "Go to this URL in a browser: https://accounts.google.com/o/oauth2/auth?client_id=947318989803-6bn6qk8qdgf4n4g3pfee6491hc0brc4i.apps.googleusercontent.com&redirect_uri=urn%3aietf%3awg%3aoauth%3a2.0%3aoob&response_type=code&scope=email%20https%3a%2f%2fwww.googleapis.com%2fauth%2fdocs.test%20https%3a%2f%2fwww.googleapis.com%2fauth%2fdrive%20https%3a%2f%2fwww.googleapis.com%2fauth%2fdrive.photos.readonly%20https%3a%2f%2fwww.googleapis.com%2fauth%2fpeopleapi.readonly\n",
      "\n",
      "Enter your authorization code:\n",
      "··········\n",
      "Mounted at /content/drive\n"
     ]
    }
   ],
   "source": [
    "from google.colab import drive\n",
    "drive.mount('/content/drive')"
   ]
  },
  {
   "cell_type": "markdown",
   "metadata": {
    "colab_type": "text",
    "id": "Izw18CCtN3Oj"
   },
   "source": [
    "# Часть 0. Сбор и объединение данных\n",
    "\n",
    "\n"
   ]
  },
  {
   "cell_type": "code",
   "execution_count": 0,
   "metadata": {
    "colab": {},
    "colab_type": "code",
    "id": "FJauVkGsBx8e"
   },
   "outputs": [],
   "source": [
    "#Old data\n",
    "!cp drive/'My Drive'/Lab5_data/catalog.xml       . #Slava\n",
    "!cp drive/'My Drive'/Lab5_data/new_articles.xml  . #Sveta\n",
    "!cp drive/'My Drive'/Lab5_data/Zalesskaya.xml    . #Galya\n",
    "!cp drive/'My Drive'/Lab5_data/output_ent.xml    . #Artem\n",
    "\n",
    "#Updated data\n",
    "!cp drive/'My Drive'/Lab5_data/output_ent_updated.xml  . #Artem\n",
    "!cp drive/'My Drive'/Lab5_data/catalog_updated.xml     . #Slava  \n",
    "!cp drive/'My Drive'/Lab5_data/output2.xml             . #Galya \n",
    "!cp drive/'My Drive'/Lab5_data/updated_articles.xml    . #Sveta"
   ]
  },
  {
   "cell_type": "markdown",
   "metadata": {
    "colab_type": "text",
    "id": "59-OHUyROHu5"
   },
   "source": [
    "## Слияние всех файлов в 1 датасет:"
   ]
  },
  {
   "cell_type": "code",
   "execution_count": 0,
   "metadata": {
    "colab": {},
    "colab_type": "code",
    "id": "p_YU_cgvB00k"
   },
   "outputs": [],
   "source": [
    "def prepare_data():\n",
    "\n",
    "  all_data = ['output_ent.xml','catalog.xml','new_articles.xml','Zalesskaya.xml']\n",
    "  all_data_upd = ['output_ent_updated.xml', 'catalog_updated.xml', 'output2.xml', 'updated_articles.xml']\n",
    "  catalog = []\n",
    "  #fetch all data\n",
    "  for data in all_data + all_data_upd:\n",
    "    xmlstr_ent = open(data).read()\n",
    "    root_ent = etree.fromstring(xmlstr_ent)\n",
    "\n",
    "    for element_lvl1 in root_ent:\n",
    "        news = {}\n",
    "        for element_lvl2 in element_lvl1:\n",
    "            if element_lvl2.tag == 'tag':\n",
    "              element_lvl2.tag = 'tags'\n",
    "            txt = element_lvl2.text\n",
    "            news[element_lvl2.tag] = '' if txt is None else txt\n",
    "\n",
    "        if news['text'] not in [n['text'] for n in catalog]:\n",
    "          catalog.append(news)\n",
    "\n",
    "  #Каждый из нас называл категории по-разному(например 'UK' и 'uk')\n",
    "  #Для того чтобы использовать старые файлы необходимо слить их вместе\n",
    "  #Изменение самих xml'ек кажется нецелесообразным, тк эти файлы не будут переиспользованы\n",
    " \n",
    "  #Проделанные изменения:\n",
    "  #sports -> sport\n",
    "  #UK & Royal -> uk\n",
    "  #Science & technology -> science\n",
    "  #World -> world\n",
    "\n",
    "  for news in catalog:\n",
    "    if news['category'] == 'sports':\n",
    "      news['category'] = 'sport'\n",
    "    if news['category'] == 'UK':\n",
    "      news['category'] = 'uk'\n",
    "    if news['category'] == 'Royal':\n",
    "      news['category'] = 'uk'\n",
    "    if news['category'] == 'Science':\n",
    "      news['category'] = 'science'\n",
    "    if news['category'] == 'technology':\n",
    "      news['category'] = 'science'\n",
    "    if news['category'] == 'World':\n",
    "      news['category'] = 'world'\n",
    "\n",
    "  categories = set([news['category'] for news in catalog])\n",
    "  counts = dict.fromkeys(list(categories), 0)\n",
    "  for news in catalog:\n",
    "    counts.update({news['category'] : counts[news['category']] + 1})\n",
    "  print(counts)\n",
    "\n",
    "  return catalog"
   ]
  },
  {
   "cell_type": "code",
   "execution_count": 0,
   "metadata": {
    "colab": {
     "base_uri": "https://localhost:8080/",
     "height": 34
    },
    "colab_type": "code",
    "id": "ned5o3sxO-4S",
    "outputId": "ae6d24d6-e80a-4b69-8f20-e146f9d5dcd5"
   },
   "outputs": [
    {
     "name": "stdout",
     "output_type": "stream",
     "text": [
      "{'health': 99, 'uk': 470, 'world': 365, 'entertainment': 94, 'business': 212, 'travel': 70, 'sport': 229, 'science': 153}\n"
     ]
    }
   ],
   "source": [
    "data = prepare_data()"
   ]
  },
  {
   "cell_type": "markdown",
   "metadata": {
    "colab_type": "text",
    "id": "wKpm9o8TuBSF"
   },
   "source": [
    "Как видно, распределение новостей по топикам не равномерно и это может как-то сказаться на результатах(слов, связанных с 'entertainment', меньше чем связанных со 'sport'), но обрезание датасета не вариант, тк тогда данных будет маловато"
   ]
  },
  {
   "cell_type": "code",
   "execution_count": 0,
   "metadata": {
    "colab": {
     "base_uri": "https://localhost:8080/",
     "height": 35
    },
    "colab_type": "code",
    "id": "jAh6LQ6sF9gw",
    "outputId": "8a20192f-893b-4a2c-aeb8-dc22796120a3"
   },
   "outputs": [
    {
     "data": {
      "text/plain": [
       "1692"
      ]
     },
     "execution_count": 6,
     "metadata": {
      "tags": []
     },
     "output_type": "execute_result"
    }
   ],
   "source": [
    "len(data)"
   ]
  },
  {
   "cell_type": "code",
   "execution_count": 0,
   "metadata": {
    "colab": {
     "base_uri": "https://localhost:8080/",
     "height": 35
    },
    "colab_type": "code",
    "id": "Wkne_yx2UHg6",
    "outputId": "3161b054-6563-44da-fc9a-e6d13072bbd9"
   },
   "outputs": [
    {
     "name": "stdout",
     "output_type": "stream",
     "text": [
      "1692\n"
     ]
    }
   ],
   "source": [
    "texts  = set([news['text'] for news in data])\n",
    "print(len(texts))"
   ]
  },
  {
   "cell_type": "markdown",
   "metadata": {
    "colab_type": "text",
    "id": "Wdqg01g1uuC2"
   },
   "source": [
    "По итогу мы имеем 1692 уникальных новости"
   ]
  },
  {
   "cell_type": "markdown",
   "metadata": {
    "colab_type": "text",
    "id": "dymgOyjvp_qa"
   },
   "source": [
    "## Предобработка данных\n"
   ]
  },
  {
   "cell_type": "markdown",
   "metadata": {
    "colab_type": "text",
    "id": "WvOi7xc2u9dl"
   },
   "source": [
    "Как всегда первым делом данные надо предобработать для упрощения работы и уменьшения размера словаря.\n",
    "\n",
    "Был переиспользован код из предыдущих лаб:"
   ]
  },
  {
   "cell_type": "code",
   "execution_count": 0,
   "metadata": {
    "colab": {
     "base_uri": "https://localhost:8080/",
     "height": 357
    },
    "colab_type": "code",
    "id": "_zEdiUGIqRpz",
    "outputId": "2707a051-08a3-487c-ac29-6c39b78f88c7"
   },
   "outputs": [
    {
     "name": "stdout",
     "output_type": "stream",
     "text": [
      "NLTK Downloader\n",
      "---------------------------------------------------------------------------\n",
      "    d) Download   l) List    u) Update   c) Config   h) Help   q) Quit\n",
      "---------------------------------------------------------------------------\n",
      "Downloader> d wordnet\n",
      "    Downloading package wordnet to /root/nltk_data...\n",
      "      Unzipping corpora/wordnet.zip.\n",
      "\n",
      "---------------------------------------------------------------------------\n",
      "    d) Download   l) List    u) Update   c) Config   h) Help   q) Quit\n",
      "---------------------------------------------------------------------------\n",
      "Downloader> d stopwords\n",
      "    Downloading package stopwords to /root/nltk_data...\n",
      "      Unzipping corpora/stopwords.zip.\n",
      "\n",
      "---------------------------------------------------------------------------\n",
      "    d) Download   l) List    u) Update   c) Config   h) Help   q) Quit\n",
      "---------------------------------------------------------------------------\n",
      "Downloader> q\n"
     ]
    },
    {
     "data": {
      "text/plain": [
       "True"
      ]
     },
     "execution_count": 8,
     "metadata": {
      "tags": []
     },
     "output_type": "execute_result"
    }
   ],
   "source": [
    "import nltk\n",
    "nltk.download()\n",
    "#d wordnet\n",
    "#d stopwords\n",
    "#q"
   ]
  },
  {
   "cell_type": "code",
   "execution_count": 0,
   "metadata": {
    "colab": {},
    "colab_type": "code",
    "id": "J67U2g9SqCeY"
   },
   "outputs": [],
   "source": [
    "from nltk.tokenize import RegexpTokenizer\n",
    "from nltk.stem import WordNetLemmatizer \n",
    "from nltk.corpus import stopwords\n",
    "\n",
    "def tokenize(input):\n",
    "  tokenizer = RegexpTokenizer(r'[a-zA-Z]+')\n",
    "  return tokenizer.tokenize(input)\n",
    "\n",
    "def remove_stop_words(input):\n",
    "  stop_words = set(stopwords.words('english'))\n",
    "  return [w for w in input if not w in stop_words]\n",
    "  \n",
    "def try_lemmatize(word, pos):\n",
    "  lemmatizer = WordNetLemmatizer()\n",
    "  return lemmatizer.lemmatize(word, pos = pos)\n",
    "\n",
    "def lemmatize(input):\n",
    "  output = []\n",
    "  poses = [\"n\", \"a\", \"v\"]\n",
    "  for word in input:\n",
    "    Flag = False\n",
    "    for pos in poses:\n",
    "      if not Flag:\n",
    "        result = try_lemmatize(word,pos)\n",
    "        if result != word:\n",
    "          Flag = True\n",
    "          output.append(result)\n",
    "    if not Flag:\n",
    "      output.append(word)\n",
    "  return output\n",
    "\n",
    "def prepare_data(Text, Title, Tags):\n",
    "  Text  = lemmatize(remove_stop_words(tokenize(Text.lower())))\n",
    "  Title = lemmatize(remove_stop_words(tokenize(Title.lower())))\n",
    "  Tags  = lemmatize(remove_stop_words(tokenize(Tags.lower())))\n",
    "  return Text, Title, Tags"
   ]
  },
  {
   "cell_type": "code",
   "execution_count": 0,
   "metadata": {
    "colab": {},
    "colab_type": "code",
    "id": "ROgYNNhLqFH0"
   },
   "outputs": [],
   "source": [
    "def data_preparation(data):\n",
    "  prepared_dataset = []\n",
    "  for i in data:\n",
    "    Text     = i['text']\n",
    "    Title    = i['title']\n",
    "    Tags     = i['tags']\n",
    "    Category = i['category']\n",
    "    Text, Title, Tags = prepare_data(Text, Title,Tags)\n",
    "    prepared_dataset.append([Title, Text, Tags, Category])\n",
    "  return prepared_dataset"
   ]
  },
  {
   "cell_type": "code",
   "execution_count": 0,
   "metadata": {
    "colab": {},
    "colab_type": "code",
    "id": "nGCXQcUnqG-N"
   },
   "outputs": [],
   "source": [
    "dataset = data_preparation(data)"
   ]
  },
  {
   "cell_type": "code",
   "execution_count": 0,
   "metadata": {
    "colab": {
     "base_uri": "https://localhost:8080/",
     "height": 35
    },
    "colab_type": "code",
    "id": "EDknKp8hrgLq",
    "outputId": "fec4790f-e515-4cc3-afd2-a09f323ea500"
   },
   "outputs": [
    {
     "data": {
      "text/plain": [
       "28483"
      ]
     },
     "execution_count": 12,
     "metadata": {
      "tags": []
     },
     "output_type": "execute_result"
    }
   ],
   "source": [
    "words = []\n",
    "for [title, text, _, _] in dataset:\n",
    "  for word in title+text:\n",
    "    words.append(word)\n",
    "\n",
    "len(set(words))"
   ]
  },
  {
   "cell_type": "markdown",
   "metadata": {
    "colab_type": "text",
    "id": "R3A0h-33veeq"
   },
   "source": [
    "После лемматизации и удаления \"стоп слов\" размер словаря равен 28483"
   ]
  },
  {
   "cell_type": "code",
   "execution_count": 0,
   "metadata": {
    "colab": {},
    "colab_type": "code",
    "id": "JLHRR1BeuDiK"
   },
   "outputs": [],
   "source": [
    "train_dataset =  [' '.join([*title, *text]) for [title, text, tags,category] in dataset]"
   ]
  },
  {
   "cell_type": "markdown",
   "metadata": {
    "colab_type": "text",
    "id": "3z6e48bPvrDf"
   },
   "source": [
    "# Часть 1. Тематическое моделирование"
   ]
  },
  {
   "cell_type": "markdown",
   "metadata": {
    "colab_type": "text",
    "id": "mf-bZq6Bv9wa"
   },
   "source": [
    "Для использования LDA данные должны быть представлены в виде term-doc матрицы. \n",
    "\n",
    "Для этого воспользуемся CountVectorizer'ом из библиотеки sklearn.\n",
    "\n",
    "Во время работы мы вдохновлялись данной статьей: https://habr.com/ru/post/417167/\n"
   ]
  },
  {
   "cell_type": "markdown",
   "metadata": {
    "colab_type": "text",
    "id": "B1DUXp5jqrN6"
   },
   "source": [
    "## Count Vectorizer"
   ]
  },
  {
   "cell_type": "code",
   "execution_count": 0,
   "metadata": {
    "colab": {},
    "colab_type": "code",
    "id": "YrVGvpjJMdtT"
   },
   "outputs": [],
   "source": [
    "from sklearn.feature_extraction.text import CountVectorizer"
   ]
  },
  {
   "cell_type": "code",
   "execution_count": 0,
   "metadata": {
    "colab": {},
    "colab_type": "code",
    "id": "FYbdM-RMqtYB"
   },
   "outputs": [],
   "source": [
    "voc = {word : i for i,word in enumerate(set(words))}\n",
    "count_vect = CountVectorizer(vocabulary=voc)\n",
    "count_vect_matrix = count_vect.fit_transform(train_dataset)"
   ]
  },
  {
   "cell_type": "markdown",
   "metadata": {
    "colab_type": "text",
    "id": "DlCvWPm0wysF"
   },
   "source": [
    "## LDA"
   ]
  },
  {
   "cell_type": "markdown",
   "metadata": {
    "colab_type": "text",
    "id": "M0__hSjNw3Tk"
   },
   "source": [
    "Обучим следующие варианты LDA:\n",
    "\n",
    "- 5 топиков\n",
    "\n",
    "  Результат ожидается плохой, тк у нас 8 категорий новостей. Из-за этого часть категорий перемешаются\n",
    "\n",
    "- 8 топиков\n",
    "\n",
    "  В идеале каждый топик LDA должен совпасть с категорией новостей, но тут мы сталкиваемся с тем, что часть категорий могут быть похожи(например 'world' и 'uk')\n",
    "\n",
    "- 15 топиков\n",
    "\n",
    "  Результат сложно предугадать - с одной стороны мы обнаружим более узкие темы, с другой стороны это может повлиять на результат(тк темы LDA могут быть между категориями - например тема 'киберспорт' может включать слова и из 'sport', и из 'entertainment', и из 'technology', если речь идет о каком-нибудь железе)\n",
    "\n",
    "- 30 топиков\n",
    "\n",
    "  Ситуация аналогична предыдущему кейсу. Темы будут еще более специфичны"
   ]
  },
  {
   "cell_type": "code",
   "execution_count": 0,
   "metadata": {
    "colab": {},
    "colab_type": "code",
    "id": "Xm0niBUTNXEC"
   },
   "outputs": [],
   "source": [
    "from sklearn.decomposition import LatentDirichletAllocation as LDA"
   ]
  },
  {
   "cell_type": "code",
   "execution_count": 0,
   "metadata": {
    "colab": {},
    "colab_type": "code",
    "id": "Oz4J0UZv3n1s"
   },
   "outputs": [],
   "source": [
    "def check_lda(countVectModel, ldaModel, text, n_keywords, n_topics):\n",
    "  vect_text = countVectModel.transform([text])\n",
    "  lda_topics = ldaModel.transform(vect_text)\n",
    "  lda_topics = np.squeeze(lda_topics, axis=0)\n",
    "  n_topics_indices = lda_topics.argsort()[-n_topics:][::-1]\n",
    "  top_topics_words_dists = []\n",
    "  for i in n_topics_indices:\n",
    "    top_topics_words_dists.append(ldaModel.components_[i])\n",
    "  keywords = np.zeros(shape=(n_keywords*n_topics, ldaModel.components_.shape[1]))\n",
    "  for i,topic in enumerate(top_topics_words_dists):\n",
    "      n_keywords_indices = topic.argsort()[-n_keywords:][::-1]\n",
    "      for k,j in enumerate(n_keywords_indices):\n",
    "          keywords[i * n_keywords + k, j] = 1\n",
    "  keywords = count_vect.inverse_transform(keywords)\n",
    "  keywords = [keyword[0] for keyword in keywords]\n",
    "  return [[topic_word for topic_word in keywords[i*n_keywords:i*n_keywords+n_keywords]] for i in range(n_topics)]"
   ]
  },
  {
   "cell_type": "markdown",
   "metadata": {
    "colab_type": "text",
    "id": "KEp7tAQGor42"
   },
   "source": [
    "Чтобы сравнение моделей было более наглядным, посмотрим, какие ключевые слова подбирают LDA, обученные для разного количества тем, для одной конкретной новости - самой первой из датасета. Она описывает про круизное путешествие по реке Янцзы и относится к теме \"Путешествия\"."
   ]
  },
  {
   "cell_type": "code",
   "execution_count": 0,
   "metadata": {
    "colab": {
     "base_uri": "https://localhost:8080/",
     "height": 107
    },
    "colab_type": "code",
    "id": "AlmN-Xs1pbY4",
    "outputId": "7b4951cb-a910-44ce-a98d-58e5b9242d3d"
   },
   "outputs": [
    {
     "data": {
      "text/plain": [
       "{'category': 'travel',\n",
       " 'tags': 'gorges, yangtze, meters, largest, cruise, chinas, river, ship, sail, feet, square, worlds, victoria',\n",
       " 'text': '(CNN) — The Yangtze may only be the world\\'s third-longest river, but it\\'s about to be served by the world\\'s biggest river cruise ship.\\n\\nThe Victoria Sabrina ship will set sail on China\\'s largest inland body of water in 2020, ferrying passengers through multiple provinces and providing views of the Three Gorges Dam.\\n\\nUS-based company Victoria Cruises tells CNN Travel that the Victoria Sabrina, due to make her maiden voyage in 2020, is a luxury ship that combines Western and Chinese design elements.\\n\\nRelated content World\\'s longest cruise sets sail from London\\n\\nAll staterooms will have balconies, and an open-air observation deck on top of the ship will provide plenty of vantage points and opportunities for enjoying the views.\\n\\nThere are a range of room choices available. The smallest option is a stateroom, which is 275 square feet (26 square meters), and the largest is the posh Shangri-La suite, with 915 square feet (85 square meters) of the room itself and 1,320 square feet (123 square meters) of outdoor balcony space.\\n\\nFittingly, the Victoria Sabrina\\'s onboard restaurant is named Top of the Yangtze.\\n\\nCall it recycling? The Silversea cruise ship company is spending over $100 million to make a very big cruise ship out of a smaller one they already own.\\u200b\\n\\nThe Three Gorges Dam is the world\\'s largest hydropower project, and produces some 84.7 billion kilowatt hours of electricity every year. Opened in 2003, it has created greater possibilities for cruising on the Yangtze.\\n\\n\"This new ship is the first to take full advantage of the increased water level of the Yangtze as a result of the Three Gorges Dam,\" Larry Greenman, manager of public relations and customer service for Victoria Cruise Lines, said in a statement.\\n\\nHe added: \"The overall experience goes much deeper into the panoramic vistas and traditions of the region and its people.\"\\n\\nRelated content Cruise Critic picks world\\'s best cruise ships for 2019\\n\\nChina is emerging as one of the world\\'s biggest markets for travel, which includes cruise ships.',\n",
       " 'title': \"World's largest river cruise ship to sail China's Yangtze\"}"
      ]
     },
     "execution_count": 21,
     "metadata": {
      "tags": []
     },
     "output_type": "execute_result"
    }
   ],
   "source": [
    "data[0]"
   ]
  },
  {
   "cell_type": "markdown",
   "metadata": {
    "colab_type": "text",
    "id": "uL0aBmoJZbit"
   },
   "source": [
    "### 5 Topics"
   ]
  },
  {
   "cell_type": "code",
   "execution_count": 0,
   "metadata": {
    "colab": {
     "base_uri": "https://localhost:8080/",
     "height": 676
    },
    "colab_type": "code",
    "id": "C41HcHyVZd9r",
    "outputId": "77f8f884-520d-4d46-d60a-d6d259654e86"
   },
   "outputs": [
    {
     "name": "stdout",
     "output_type": "stream",
     "text": [
      "iteration: 1 of max_iter: 30\n",
      "iteration: 2 of max_iter: 30\n",
      "iteration: 3 of max_iter: 30\n",
      "iteration: 4 of max_iter: 30\n",
      "iteration: 5 of max_iter: 30\n",
      "iteration: 6 of max_iter: 30\n",
      "iteration: 7 of max_iter: 30\n",
      "iteration: 8 of max_iter: 30\n",
      "iteration: 9 of max_iter: 30\n",
      "iteration: 10 of max_iter: 30\n",
      "iteration: 11 of max_iter: 30\n",
      "iteration: 12 of max_iter: 30\n",
      "iteration: 13 of max_iter: 30\n",
      "iteration: 14 of max_iter: 30\n",
      "iteration: 15 of max_iter: 30\n",
      "iteration: 16 of max_iter: 30\n",
      "iteration: 17 of max_iter: 30\n",
      "iteration: 18 of max_iter: 30\n",
      "iteration: 19 of max_iter: 30\n",
      "iteration: 20 of max_iter: 30\n",
      "iteration: 21 of max_iter: 30\n",
      "iteration: 22 of max_iter: 30\n",
      "iteration: 23 of max_iter: 30\n",
      "iteration: 24 of max_iter: 30\n",
      "iteration: 25 of max_iter: 30\n",
      "iteration: 26 of max_iter: 30\n",
      "iteration: 27 of max_iter: 30\n",
      "iteration: 28 of max_iter: 30\n",
      "iteration: 29 of max_iter: 30\n",
      "iteration: 30 of max_iter: 30\n"
     ]
    },
    {
     "data": {
      "text/plain": [
       "LatentDirichletAllocation(batch_size=128, doc_topic_prior=None,\n",
       "                          evaluate_every=-1, learning_decay=0.7,\n",
       "                          learning_method='batch', learning_offset=10.0,\n",
       "                          max_doc_update_iter=100, max_iter=30,\n",
       "                          mean_change_tol=0.001, n_components=5, n_jobs=6,\n",
       "                          perp_tol=0.1, random_state=None,\n",
       "                          topic_word_prior=None, total_samples=1000000.0,\n",
       "                          verbose=1)"
      ]
     },
     "execution_count": 22,
     "metadata": {
      "tags": []
     },
     "output_type": "execute_result"
    }
   ],
   "source": [
    "lda5 = LDA(n_components = 5,\n",
    "                 max_iter=30,\n",
    "                 n_jobs=6,\n",
    "                 learning_method='batch',\n",
    "                 verbose=1)\n",
    "lda5.fit(count_vect_matrix)"
   ]
  },
  {
   "cell_type": "code",
   "execution_count": 0,
   "metadata": {
    "colab": {
     "base_uri": "https://localhost:8080/",
     "height": 35
    },
    "colab_type": "code",
    "id": "qMQarMOTZl28",
    "outputId": "28c76d20-67ab-4c89-d7b2-fae98b9c7f5b"
   },
   "outputs": [
    {
     "name": "stdout",
     "output_type": "stream",
     "text": [
      "['world', 'photo', 'hide', 'year', 'caption', 'game', 'one', 'first', 'hotel', 'new']\n"
     ]
    }
   ],
   "source": [
    "[words5] = check_lda(count_vect, lda5, train_dataset[0], 10, 1)\n",
    "print(words5)"
   ]
  },
  {
   "cell_type": "markdown",
   "metadata": {
    "colab_type": "text",
    "id": "dXx-jxsiqHhm"
   },
   "source": [
    "Ключевые слова 'world', 'photo', 'year', 'one', 'first', 'hotel', 'new' вполне соотносятся с темой путешествий, тогда как 'hide', 'caption', 'game' совсем не относятся к этой теме .\n",
    "\n",
    "\n"
   ]
  },
  {
   "cell_type": "markdown",
   "metadata": {
    "colab_type": "text",
    "id": "E53YDxj_46Qt"
   },
   "source": [
    "### 8 Topics"
   ]
  },
  {
   "cell_type": "code",
   "execution_count": 0,
   "metadata": {
    "colab": {
     "base_uri": "https://localhost:8080/",
     "height": 676
    },
    "colab_type": "code",
    "id": "7KUDkejwqe4N",
    "outputId": "60beeb5b-cbcc-4adf-8cf5-fb2ba0568317"
   },
   "outputs": [
    {
     "name": "stdout",
     "output_type": "stream",
     "text": [
      "iteration: 1 of max_iter: 30\n",
      "iteration: 2 of max_iter: 30\n",
      "iteration: 3 of max_iter: 30\n",
      "iteration: 4 of max_iter: 30\n",
      "iteration: 5 of max_iter: 30\n",
      "iteration: 6 of max_iter: 30\n",
      "iteration: 7 of max_iter: 30\n",
      "iteration: 8 of max_iter: 30\n",
      "iteration: 9 of max_iter: 30\n",
      "iteration: 10 of max_iter: 30\n",
      "iteration: 11 of max_iter: 30\n",
      "iteration: 12 of max_iter: 30\n",
      "iteration: 13 of max_iter: 30\n",
      "iteration: 14 of max_iter: 30\n",
      "iteration: 15 of max_iter: 30\n",
      "iteration: 16 of max_iter: 30\n",
      "iteration: 17 of max_iter: 30\n",
      "iteration: 18 of max_iter: 30\n",
      "iteration: 19 of max_iter: 30\n",
      "iteration: 20 of max_iter: 30\n",
      "iteration: 21 of max_iter: 30\n",
      "iteration: 22 of max_iter: 30\n",
      "iteration: 23 of max_iter: 30\n",
      "iteration: 24 of max_iter: 30\n",
      "iteration: 25 of max_iter: 30\n",
      "iteration: 26 of max_iter: 30\n",
      "iteration: 27 of max_iter: 30\n",
      "iteration: 28 of max_iter: 30\n",
      "iteration: 29 of max_iter: 30\n",
      "iteration: 30 of max_iter: 30\n"
     ]
    },
    {
     "data": {
      "text/plain": [
       "LatentDirichletAllocation(batch_size=128, doc_topic_prior=None,\n",
       "                          evaluate_every=-1, learning_decay=0.7,\n",
       "                          learning_method='batch', learning_offset=10.0,\n",
       "                          max_doc_update_iter=100, max_iter=30,\n",
       "                          mean_change_tol=0.001, n_components=8, n_jobs=6,\n",
       "                          perp_tol=0.1, random_state=None,\n",
       "                          topic_word_prior=None, total_samples=1000000.0,\n",
       "                          verbose=1)"
      ]
     },
     "execution_count": 24,
     "metadata": {
      "tags": []
     },
     "output_type": "execute_result"
    }
   ],
   "source": [
    "lda8 = LDA(n_components = 8,\n",
    "                 max_iter=30,\n",
    "                 n_jobs=6,\n",
    "                 learning_method='batch',\n",
    "                 verbose=1)\n",
    "lda8.fit(count_vect_matrix)"
   ]
  },
  {
   "cell_type": "code",
   "execution_count": 0,
   "metadata": {
    "colab": {
     "base_uri": "https://localhost:8080/",
     "height": 35
    },
    "colab_type": "code",
    "id": "Tm-ibDqwyqDB",
    "outputId": "cd3cf660-704c-42de-b05e-f075c17c249b"
   },
   "outputs": [
    {
     "name": "stdout",
     "output_type": "stream",
     "text": [
      "['hotel', 'new', 'one', 'city', 'restaurant', 'make', 'food', 'world', 'room', 'year']\n"
     ]
    }
   ],
   "source": [
    "[words8] = check_lda(count_vect, lda8, train_dataset[0], 10, 1)\n",
    "print(words8)"
   ]
  },
  {
   "cell_type": "markdown",
   "metadata": {
    "colab_type": "text",
    "id": "42FJ217Vq69o"
   },
   "source": [
    "Все найденные ключевые слова довольно ожидаемо увидеть в теме про путешествия. Поэтому можно говорить о хорошем разбиении на темы."
   ]
  },
  {
   "cell_type": "markdown",
   "metadata": {
    "colab_type": "text",
    "id": "FH1Z6s1L4_K3"
   },
   "source": [
    "### 15 Topics"
   ]
  },
  {
   "cell_type": "code",
   "execution_count": 0,
   "metadata": {
    "colab": {
     "base_uri": "https://localhost:8080/",
     "height": 676
    },
    "colab_type": "code",
    "id": "-b9heu355BNW",
    "outputId": "c1fecd99-0fca-4029-d101-b3e4d2419ada"
   },
   "outputs": [
    {
     "name": "stdout",
     "output_type": "stream",
     "text": [
      "iteration: 1 of max_iter: 30\n",
      "iteration: 2 of max_iter: 30\n",
      "iteration: 3 of max_iter: 30\n",
      "iteration: 4 of max_iter: 30\n",
      "iteration: 5 of max_iter: 30\n",
      "iteration: 6 of max_iter: 30\n",
      "iteration: 7 of max_iter: 30\n",
      "iteration: 8 of max_iter: 30\n",
      "iteration: 9 of max_iter: 30\n",
      "iteration: 10 of max_iter: 30\n",
      "iteration: 11 of max_iter: 30\n",
      "iteration: 12 of max_iter: 30\n",
      "iteration: 13 of max_iter: 30\n",
      "iteration: 14 of max_iter: 30\n",
      "iteration: 15 of max_iter: 30\n",
      "iteration: 16 of max_iter: 30\n",
      "iteration: 17 of max_iter: 30\n",
      "iteration: 18 of max_iter: 30\n",
      "iteration: 19 of max_iter: 30\n",
      "iteration: 20 of max_iter: 30\n",
      "iteration: 21 of max_iter: 30\n",
      "iteration: 22 of max_iter: 30\n",
      "iteration: 23 of max_iter: 30\n",
      "iteration: 24 of max_iter: 30\n",
      "iteration: 25 of max_iter: 30\n",
      "iteration: 26 of max_iter: 30\n",
      "iteration: 27 of max_iter: 30\n",
      "iteration: 28 of max_iter: 30\n",
      "iteration: 29 of max_iter: 30\n",
      "iteration: 30 of max_iter: 30\n"
     ]
    },
    {
     "data": {
      "text/plain": [
       "LatentDirichletAllocation(batch_size=128, doc_topic_prior=None,\n",
       "                          evaluate_every=-1, learning_decay=0.7,\n",
       "                          learning_method='batch', learning_offset=10.0,\n",
       "                          max_doc_update_iter=100, max_iter=30,\n",
       "                          mean_change_tol=0.001, n_components=15, n_jobs=6,\n",
       "                          perp_tol=0.1, random_state=None,\n",
       "                          topic_word_prior=None, total_samples=1000000.0,\n",
       "                          verbose=1)"
      ]
     },
     "execution_count": 26,
     "metadata": {
      "tags": []
     },
     "output_type": "execute_result"
    }
   ],
   "source": [
    "lda15 = LDA(n_components = 15,\n",
    "                 max_iter = 30,\n",
    "                 n_jobs=6,\n",
    "                 learning_method='batch',\n",
    "                 verbose=1)\n",
    "lda15.fit(count_vect_matrix)"
   ]
  },
  {
   "cell_type": "code",
   "execution_count": 0,
   "metadata": {
    "colab": {
     "base_uri": "https://localhost:8080/",
     "height": 35
    },
    "colab_type": "code",
    "id": "z8j2nXgd4rXB",
    "outputId": "ce71fe5c-eabc-4be9-da72-569dccd169ff"
   },
   "outputs": [
    {
     "name": "stdout",
     "output_type": "stream",
     "text": [
      "['hotel', 'best', 'caption', 'photo', 'island', 'world', 'hide', 'new', 'city', 'tour']\n"
     ]
    }
   ],
   "source": [
    "[words15] = check_lda(count_vect, lda15, train_dataset[0], 10, 1)\n",
    "print(words15)"
   ]
  },
  {
   "cell_type": "markdown",
   "metadata": {
    "colab_type": "text",
    "id": "gZfRxu7Pq9pv"
   },
   "source": [
    "Данные слова тоже хорошо определяют тему, но и тут есть непонятное 'caption'."
   ]
  },
  {
   "cell_type": "markdown",
   "metadata": {
    "colab_type": "text",
    "id": "luXw0Uqv5Gty"
   },
   "source": [
    "### 30 Topics"
   ]
  },
  {
   "cell_type": "code",
   "execution_count": 0,
   "metadata": {
    "colab": {
     "base_uri": "https://localhost:8080/",
     "height": 676
    },
    "colab_type": "code",
    "id": "mvbvk-A-5JiQ",
    "outputId": "c63af3a5-85d2-46c9-e1fa-48c26d375003"
   },
   "outputs": [
    {
     "name": "stdout",
     "output_type": "stream",
     "text": [
      "iteration: 1 of max_iter: 30\n",
      "iteration: 2 of max_iter: 30\n",
      "iteration: 3 of max_iter: 30\n",
      "iteration: 4 of max_iter: 30\n",
      "iteration: 5 of max_iter: 30\n",
      "iteration: 6 of max_iter: 30\n",
      "iteration: 7 of max_iter: 30\n",
      "iteration: 8 of max_iter: 30\n",
      "iteration: 9 of max_iter: 30\n",
      "iteration: 10 of max_iter: 30\n",
      "iteration: 11 of max_iter: 30\n",
      "iteration: 12 of max_iter: 30\n",
      "iteration: 13 of max_iter: 30\n",
      "iteration: 14 of max_iter: 30\n",
      "iteration: 15 of max_iter: 30\n",
      "iteration: 16 of max_iter: 30\n",
      "iteration: 17 of max_iter: 30\n",
      "iteration: 18 of max_iter: 30\n",
      "iteration: 19 of max_iter: 30\n",
      "iteration: 20 of max_iter: 30\n",
      "iteration: 21 of max_iter: 30\n",
      "iteration: 22 of max_iter: 30\n",
      "iteration: 23 of max_iter: 30\n",
      "iteration: 24 of max_iter: 30\n",
      "iteration: 25 of max_iter: 30\n",
      "iteration: 26 of max_iter: 30\n",
      "iteration: 27 of max_iter: 30\n",
      "iteration: 28 of max_iter: 30\n",
      "iteration: 29 of max_iter: 30\n",
      "iteration: 30 of max_iter: 30\n"
     ]
    },
    {
     "data": {
      "text/plain": [
       "LatentDirichletAllocation(batch_size=128, doc_topic_prior=None,\n",
       "                          evaluate_every=-1, learning_decay=0.7,\n",
       "                          learning_method='batch', learning_offset=10.0,\n",
       "                          max_doc_update_iter=100, max_iter=30,\n",
       "                          mean_change_tol=0.001, n_components=30, n_jobs=6,\n",
       "                          perp_tol=0.1, random_state=None,\n",
       "                          topic_word_prior=None, total_samples=1000000.0,\n",
       "                          verbose=1)"
      ]
     },
     "execution_count": 28,
     "metadata": {
      "tags": []
     },
     "output_type": "execute_result"
    }
   ],
   "source": [
    "lda30 = LDA(n_components = 30,\n",
    "                 max_iter = 30,\n",
    "                 n_jobs=6,\n",
    "                 learning_method='batch',\n",
    "                 verbose=1)\n",
    "lda30.fit(count_vect_matrix)"
   ]
  },
  {
   "cell_type": "code",
   "execution_count": 0,
   "metadata": {
    "colab": {
     "base_uri": "https://localhost:8080/",
     "height": 35
    },
    "colab_type": "code",
    "id": "6m1T2y0W5Ucm",
    "outputId": "3691c6bd-a972-490a-e397-fa0235981992"
   },
   "outputs": [
    {
     "name": "stdout",
     "output_type": "stream",
     "text": [
      "['island', 'world', 'best', 'yacht', 'destination', 'airport', 'bar', 'international', 'reef', 'sea']\n"
     ]
    }
   ],
   "source": [
    "[words30] = check_lda(count_vect, lda30, train_dataset[0], 10, 1)\n",
    "print(words30)"
   ]
  },
  {
   "cell_type": "markdown",
   "metadata": {
    "colab_type": "text",
    "id": "BvyZkib2rAPM"
   },
   "source": [
    "Здесь уже, похоже, была найдена более узкая тема, а именно \"Водное путешествие\", \"Морская навигация\""
   ]
  },
  {
   "cell_type": "markdown",
   "metadata": {
    "colab_type": "text",
    "id": "NUSAEKWKTpu2"
   },
   "source": [
    "## Использование Word2Vec для выбора лучшей модели\n"
   ]
  },
  {
   "cell_type": "code",
   "execution_count": 0,
   "metadata": {
    "colab": {},
    "colab_type": "code",
    "id": "SJ29bTZhQmnG"
   },
   "outputs": [],
   "source": [
    "from gensim.models.coherencemodel import CoherenceModel"
   ]
  },
  {
   "cell_type": "markdown",
   "metadata": {
    "colab_type": "text",
    "id": "8MT_UoKm7TbX"
   },
   "source": [
    "Мы читаем задание строчка за строчкой и делаем так же :)\n",
    "\n",
    "У CoherenceModel похоже есть свой LDA, который почему то не совместим с sklearn'овским. На часть с LDA было потрачено довольно много времени, поэтому переделывать все чтобы просто заюзать эту модель не захотелось. В итоге было решено использовать функции, которые определяют похожесть двух листов слов между собой для подсчета когерентности(=похожести)"
   ]
  },
  {
   "cell_type": "code",
   "execution_count": 0,
   "metadata": {
    "colab": {
     "base_uri": "https://localhost:8080/",
     "height": 89
    },
    "colab_type": "code",
    "id": "tDDa9-HKUWod",
    "outputId": "738a1a75-4b83-445e-97a2-9838632a286d"
   },
   "outputs": [
    {
     "name": "stdout",
     "output_type": "stream",
     "text": [
      "[==================================================] 100.0% 128.1/128.1MB downloaded\n"
     ]
    },
    {
     "name": "stderr",
     "output_type": "stream",
     "text": [
      "/usr/local/lib/python3.6/dist-packages/smart_open/smart_open_lib.py:402: UserWarning: This function is deprecated, use smart_open.open instead. See the migration notes for details: https://github.com/RaRe-Technologies/smart_open/blob/master/README.rst#migrating-to-the-new-open-function\n",
      "  'See the migration notes for details: %s' % _MIGRATION_NOTES_URL\n"
     ]
    }
   ],
   "source": [
    "import gensim.downloader as api\n",
    "\n",
    "word_vectors = api.load(\"glove-wiki-gigaword-100\")  # load pre-trained word-vectors from gensim-data"
   ]
  },
  {
   "cell_type": "markdown",
   "metadata": {
    "colab_type": "text",
    "id": "lP0N5BNoUvIv"
   },
   "source": [
    "Найдем расстояние между облаком определенных lda ключевых слов и нашей темой"
   ]
  },
  {
   "cell_type": "code",
   "execution_count": 0,
   "metadata": {
    "colab": {
     "base_uri": "https://localhost:8080/",
     "height": 141
    },
    "colab_type": "code",
    "id": "qcxuRwuDY2kI",
    "outputId": "ba03f904-9097-4b13-f77b-16698dc58d4d"
   },
   "outputs": [
    {
     "name": "stdout",
     "output_type": "stream",
     "text": [
      "The coherence of category 'travel' and keywords for 5 topics is 0.6117458343505859\n",
      "The coherence of category 'travel' and keywords for 8 topics is 0.6359748840332031\n",
      "The coherence of category 'travel' and keywords for 15 topics is 0.6581843495368958\n",
      "The coherence of category 'travel' and keywords for 30 topics is 0.6447824239730835\n"
     ]
    },
    {
     "name": "stderr",
     "output_type": "stream",
     "text": [
      "/usr/local/lib/python3.6/dist-packages/gensim/matutils.py:737: FutureWarning: Conversion of the second argument of issubdtype from `int` to `np.signedinteger` is deprecated. In future, it will be treated as `np.int64 == np.dtype(int).type`.\n",
      "  if np.issubdtype(vec.dtype, np.int):\n"
     ]
    }
   ],
   "source": [
    "ldas = [5, 8, 15, 30]\n",
    "for i, words in enumerate([words5, words8, words15,words30]):\n",
    "  res = word_vectors.n_similarity(words, ['travel'])\n",
    "  print(\"The coherence of category 'travel' and keywords for {} topics is {}\".format(ldas[i], res))"
   ]
  },
  {
   "cell_type": "markdown",
   "metadata": {
    "colab_type": "text",
    "id": "V2Ii71niwFXr"
   },
   "source": [
    "C точки зрения предобученной модели, именно LDA на 15 тем лучше всего определил ключевые слова для путешествия. В то время как LDA на 5 тем дал худший результат. Ту же картину мы видели во время простого, человеческого анализа."
   ]
  },
  {
   "cell_type": "markdown",
   "metadata": {
    "colab_type": "text",
    "id": "88ujGnOBU8f6"
   },
   "source": [
    "Найдем расстояние между облаком ключевых слов и темой каждой статьи, для каждого обученного LDA - на 5 темах, 8, 15 и 30."
   ]
  },
  {
   "cell_type": "code",
   "execution_count": 0,
   "metadata": {
    "colab": {},
    "colab_type": "code",
    "id": "CAgQbL8BfYc_"
   },
   "outputs": [],
   "source": [
    "def get_LDA_result_for_all():\n",
    "  distance_results = [[],[],[],[]]\n",
    "  LDAs = [lda5, lda8, lda15, lda30]\n",
    "  for i, news in enumerate(train_dataset):\n",
    "    category = data[i]['category']\n",
    "    for j in range(4):\n",
    "      [keywords] = check_lda(count_vect, LDAs[j], news, 10, 1)\n",
    "      words = []\n",
    "      for key in keywords: #some words is not in vocabluary of the trained model\n",
    "        if key in word_vectors.vocab:\n",
    "          words.append(key)\n",
    "      distance = word_vectors.n_similarity(words, [category])\n",
    "      distance_results[j].append(distance)\n",
    "  return distance_results\n"
   ]
  },
  {
   "cell_type": "code",
   "execution_count": 0,
   "metadata": {
    "colab": {
     "base_uri": "https://localhost:8080/",
     "height": 72
    },
    "colab_type": "code",
    "id": "aZKj_WFa4_FD",
    "outputId": "eafd3d32-952d-4e69-b557-2a44b1d1df45"
   },
   "outputs": [
    {
     "name": "stderr",
     "output_type": "stream",
     "text": [
      "/usr/local/lib/python3.6/dist-packages/gensim/matutils.py:737: FutureWarning: Conversion of the second argument of issubdtype from `int` to `np.signedinteger` is deprecated. In future, it will be treated as `np.int64 == np.dtype(int).type`.\n",
      "  if np.issubdtype(vec.dtype, np.int):\n"
     ]
    }
   ],
   "source": [
    "distance_results = get_LDA_result_for_all()"
   ]
  },
  {
   "cell_type": "code",
   "execution_count": 0,
   "metadata": {
    "colab": {},
    "colab_type": "code",
    "id": "J_93Spbh6ycf"
   },
   "outputs": [],
   "source": [
    "import matplotlib.pyplot as plt\n",
    "def visualize_distances(results):\n",
    "  plt.figure(figsize=(15,7))\n",
    "  plt.plot(results[0], color='red')\n",
    "  plt.plot(results[1], color='orange')\n",
    "  plt.plot(results[2], color='green')\n",
    "  plt.plot(results[3], color='blue')\n",
    "  plt.legend(['lda5', 'lda8', 'lda15', 'lda30'])\n"
   ]
  },
  {
   "cell_type": "markdown",
   "metadata": {
    "colab_type": "text",
    "id": "B-JqTad3VVgA"
   },
   "source": [
    "Посмотрим, как меняется расстояние от статьи к статье, от lda к lda."
   ]
  },
  {
   "cell_type": "code",
   "execution_count": 0,
   "metadata": {
    "colab": {
     "base_uri": "https://localhost:8080/",
     "height": 428
    },
    "colab_type": "code",
    "id": "E3dGOppP_GHn",
    "outputId": "699f1265-2da9-49a4-d5cf-f22160021223"
   },
   "outputs": [
    {
     "data": {
      "image/png": "[encoded data removed]",
      "text/plain": [
       "<Figure size 1080x504 with 1 Axes>"
      ]
     },
     "metadata": {
      "tags": []
     },
     "output_type": "display_data"
    }
   ],
   "source": [
    "visualize_distances(distance_results)\n",
    "plt.show()"
   ]
  },
  {
   "cell_type": "markdown",
   "metadata": {
    "colab_type": "text",
    "id": "dUXUPTb1AGTJ"
   },
   "source": [
    "Результат получился малоинформативным. Единственное, что мы можем увидеть, что некоторые части нашего суммарного датасета определяются хуже остальных. Это связано с разнородностью датасетов, полученных от разных участников команды. Мы могли бы по индексам определить, кто виноват в подобных дропах (например, с 300-го по 600-ый индексы), но не хочется тыкать пальцем, тем более, что, скорее всего, это я)\n",
    "\n",
    "Чтобы получить более яркую картину, отсортируем наш датасет по категориям, чтобы иметь возможность оценить качество определения каждой темы."
   ]
  },
  {
   "cell_type": "code",
   "execution_count": 0,
   "metadata": {
    "colab": {},
    "colab_type": "code",
    "id": "iDx6vtTFC6g_"
   },
   "outputs": [],
   "source": [
    "categories = ['travel', 'business', 'health', 'science', 'world', 'uk', 'sport', 'entertainment']\n",
    "len_categories = []\n",
    "sorted_train_data = []\n",
    "train_categories = []\n",
    "\n",
    "for cat in categories:\n",
    "  for i, news in enumerate(dataset):\n",
    "    if data[i]['category'] == cat:\n",
    "      sorted_train_data.append(' '.join([*news[0], *news[1]]))\n",
    "      train_categories.append(cat)\n",
    "  len_categories.append(len(sorted_train_data))"
   ]
  },
  {
   "cell_type": "markdown",
   "metadata": {
    "colab_type": "text",
    "id": "NoB2vaSmJres"
   },
   "source": [
    "Теперь у нас есть отсортированный датасет sorted_train_data. В train_categories содержится информация о категории каждой новости, а в len_categories - длина каждой категории, которая понадобится нам для визуализации."
   ]
  },
  {
   "cell_type": "code",
   "execution_count": 0,
   "metadata": {
    "colab": {
     "base_uri": "https://localhost:8080/",
     "height": 72
    },
    "colab_type": "code",
    "id": "DuLr_N89FD3F",
    "outputId": "1750c22e-bda4-492d-d0bf-92b4a5a33af1"
   },
   "outputs": [
    {
     "name": "stderr",
     "output_type": "stream",
     "text": [
      "/usr/local/lib/python3.6/dist-packages/gensim/matutils.py:737: FutureWarning: Conversion of the second argument of issubdtype from `int` to `np.signedinteger` is deprecated. In future, it will be treated as `np.int64 == np.dtype(int).type`.\n",
      "  if np.issubdtype(vec.dtype, np.int):\n"
     ]
    }
   ],
   "source": [
    "sorted_distance_results = [[],[],[],[]]\n",
    "LDAs = [lda5, lda8, lda15, lda30]\n",
    "for i, news in enumerate(sorted_train_data):\n",
    "  category = train_categories[i]\n",
    "  for j in range(4):\n",
    "    [keywords] = check_lda(count_vect, LDAs[j], news, 10, 1)\n",
    "    words = []\n",
    "    for key in keywords: #some words is not in vocabluary of the trained model\n",
    "      if key in word_vectors.vocab:\n",
    "        words.append(key)\n",
    "    distance = word_vectors.n_similarity(words, [category])\n",
    "    sorted_distance_results[j].append(distance)"
   ]
  },
  {
   "cell_type": "code",
   "execution_count": 0,
   "metadata": {
    "colab": {
     "base_uri": "https://localhost:8080/",
     "height": 428
    },
    "colab_type": "code",
    "id": "fy0o-t9ULKLy",
    "outputId": "c2f50b90-c11a-4b12-bf52-14d77ecfdf4c"
   },
   "outputs": [
    {
     "data": {
      "image/png": "[encoded data removed]",
      "text/plain": [
       "<Figure size 1080x504 with 1 Axes>"
      ]
     },
     "metadata": {
      "tags": []
     },
     "output_type": "display_data"
    }
   ],
   "source": [
    "visualize_distances(sorted_distance_results)\n",
    "len_categories = [0] + len_categories\n",
    "for i in range(len(len_categories)-1):\n",
    "  plt.plot([len_categories[i],len_categories[i+1]], [0.3,0.3])\n",
    "  plt.scatter(len_categories[i], 0.3)\n",
    "  plt.text(len_categories[i], 0.25, categories[i])\n",
    "plt.show()"
   ]
  },
  {
   "cell_type": "markdown",
   "metadata": {
    "colab_type": "text",
    "id": "u_mHsfTzUPrd"
   },
   "source": [
    "## Вывод"
   ]
  },
  {
   "cell_type": "markdown",
   "metadata": {
    "colab_type": "text",
    "id": "MADVqj5DRLef"
   },
   "source": [
    "Как можно увидеть, ближе всего к реальной теме определяются статьи, связанные с бизнесом (значение расстояния выше всего). Для них лучше всего сработал LDA на 15 темах (зеленые линии выше). Хуже всего ключевые слова определялись для темы развлечений, скорее всего, из-за обилия слов, относящихся к ней. \n",
    "\n",
    "Как правило, lda15 работает лучше всех остальных (облако предсказанных ключевых слов ближе всего к заданной теме по расстоянию из word2vec). Исключениями стали темы \"Мир\" и \"Великобритания\", для которых лучше себя показал lda8, а lda15 дал из рук вон плохой результат. Таким образом, наше предположение, что LDA с разбитием на 8 тем покажет лучший результат из-за того, что у нас только 8 тем, оказался верным лишь отчасти.\n",
    "\n",
    "Однако, если учить LDA на чрезмерном количестве новостей (например, 30, синяя линия), ключевые слова станут более узкоспециализированными и отдалятся от определенных нами категорий."
   ]
  },
  {
   "cell_type": "markdown",
   "metadata": {
    "colab_type": "text",
    "id": "f4Y185nI9EQI"
   },
   "source": [
    "# Часть 2. Классификация"
   ]
  },
  {
   "cell_type": "markdown",
   "metadata": {
    "colab_type": "text",
    "id": "ScVVGWXNs8c_"
   },
   "source": [
    "Приступаем к части классификации. Импортируем всё необходимое."
   ]
  },
  {
   "cell_type": "code",
   "execution_count": 0,
   "metadata": {
    "colab": {},
    "colab_type": "code",
    "id": "42tP2KRD9I2j"
   },
   "outputs": [],
   "source": [
    "import numpy as np\n",
    "from tqdm import tqdm\n",
    "\n",
    "from lxml import objectify, etree, html\n",
    "import nltk\n",
    "from nltk.tokenize import RegexpTokenizer\n",
    "from nltk.corpus import stopwords\n",
    "from nltk.stem import WordNetLemmatizer \n",
    "import matplotlib.pyplot as plt\n",
    "import itertools\n",
    "#WORD2VEC\n",
    "import gensim\n",
    "from gensim.test.utils import common_texts, get_tmpfile\n",
    "from gensim.models import Word2Vec, KeyedVectors\n",
    "#DOC2VEC\n",
    "from gensim.models import Doc2Vec\n",
    "from gensim.models.doc2vec import TaggedDocument\n",
    "#CLASSIFIERS\n",
    "from sklearn import utils\n",
    "from sklearn.linear_model import LogisticRegression\n",
    "from sklearn.ensemble import RandomForestClassifier\n",
    "from sklearn import preprocessing\n",
    "from sklearn.model_selection import train_test_split\n",
    "from sklearn.metrics import r2_score, accuracy_score, f1_score, confusion_matrix"
   ]
  },
  {
   "cell_type": "code",
   "execution_count": 0,
   "metadata": {
    "colab": {},
    "colab_type": "code",
    "id": "oI0LaophxnX3"
   },
   "outputs": [],
   "source": [
    "import warnings\n",
    "warnings.filterwarnings('ignore')"
   ]
  },
  {
   "cell_type": "code",
   "execution_count": 0,
   "metadata": {
    "colab": {
     "base_uri": "https://localhost:8080/",
     "height": 136
    },
    "colab_type": "code",
    "id": "pI_UUz6Hxpi5",
    "outputId": "9bad92ee-c330-42f9-cbee-28b8fad4e60f"
   },
   "outputs": [
    {
     "name": "stdout",
     "output_type": "stream",
     "text": [
      "[nltk_data] Downloading package punkt to /root/nltk_data...\n",
      "[nltk_data]   Unzipping tokenizers/punkt.zip.\n",
      "[nltk_data] Downloading package wordnet to /root/nltk_data...\n",
      "[nltk_data]   Unzipping corpora/wordnet.zip.\n",
      "[nltk_data] Downloading package stopwords to /root/nltk_data...\n",
      "[nltk_data]   Unzipping corpora/stopwords.zip.\n"
     ]
    },
    {
     "data": {
      "text/plain": [
       "True"
      ]
     },
     "execution_count": 6,
     "metadata": {
      "tags": []
     },
     "output_type": "execute_result"
    }
   ],
   "source": [
    "nltk.download('punkt')\n",
    "nltk.download('wordnet')\n",
    "nltk.download('stopwords')"
   ]
  },
  {
   "cell_type": "markdown",
   "metadata": {
    "colab_type": "text",
    "id": "-A5e-7fAtP-M"
   },
   "source": [
    "Дублируем функцию сбора датасета из xml'лек, так как в части 1 она перетиралась. "
   ]
  },
  {
   "cell_type": "code",
   "execution_count": 0,
   "metadata": {
    "colab": {},
    "colab_type": "code",
    "id": "zpzIczxq6Gew"
   },
   "outputs": [],
   "source": [
    "def prepare_data():\n",
    "  all_data = ['output_ent.xml','catalog.xml','new_articles.xml','Zalesskaya.xml']\n",
    "  all_data_upd = ['output_ent_updated.xml', 'catalog_updated.xml', 'output2.xml', 'updated_articles.xml']\n",
    "  catalog = []\n",
    "  #fetch all data\n",
    "  for data in all_data + all_data_upd:\n",
    "    xmlstr_ent = open(data).read()\n",
    "    root_ent = etree.fromstring(xmlstr_ent)\n",
    "\n",
    "    for element_lvl1 in root_ent:\n",
    "        news = {}\n",
    "        for element_lvl2 in element_lvl1:\n",
    "            if element_lvl2.tag == 'tag':\n",
    "              element_lvl2.tag = 'tags'\n",
    "            txt = element_lvl2.text\n",
    "            news[element_lvl2.tag] = '' if txt is None else txt\n",
    "\n",
    "        if news['text'] not in [n['text'] for n in catalog]:\n",
    "          catalog.append(news)\n",
    "  for news in catalog:\n",
    "    if news['category'] == 'sports':\n",
    "      news['category'] = 'sport'\n",
    "    if news['category'] == 'UK':\n",
    "      news['category'] = 'uk'\n",
    "    if news['category'] == 'Royal':\n",
    "      news['category'] = 'uk'\n",
    "    if news['category'] == 'Science':\n",
    "      news['category'] = 'science'\n",
    "    if news['category'] == 'technology':\n",
    "      news['category'] = 'science'\n",
    "    if news['category'] == 'World':\n",
    "      news['category'] = 'world'\n",
    "\n",
    "  categories = set([news['category'] for news in catalog])\n",
    "  counts = dict.fromkeys(list(categories), 0)\n",
    "  for news in catalog:\n",
    "    counts.update({news['category'] : counts[news['category']] + 1})\n",
    "  print(counts)\n",
    "\n",
    "  return catalog"
   ]
  },
  {
   "cell_type": "markdown",
   "metadata": {
    "colab_type": "text",
    "id": "nGgmOmoBth61"
   },
   "source": [
    "Берём данные."
   ]
  },
  {
   "cell_type": "code",
   "execution_count": 0,
   "metadata": {
    "colab": {
     "base_uri": "https://localhost:8080/",
     "height": 34
    },
    "colab_type": "code",
    "id": "DQGXV_qZxxs1",
    "outputId": "d69c4ffa-8f03-4320-9912-768c1ee06b87"
   },
   "outputs": [
    {
     "name": "stdout",
     "output_type": "stream",
     "text": [
      "{'business': 212, 'entertainment': 94, 'uk': 470, 'travel': 70, 'health': 99, 'science': 153, 'world': 365, 'sport': 229}\n"
     ]
    }
   ],
   "source": [
    "data = prepare_data()"
   ]
  },
  {
   "cell_type": "markdown",
   "metadata": {
    "colab_type": "text",
    "id": "cC2bAUjqyQ4l"
   },
   "source": [
    "## Преобразование данных"
   ]
  },
  {
   "cell_type": "markdown",
   "metadata": {
    "colab_type": "text",
    "id": "g6lJSFustssi"
   },
   "source": [
    "В процессе токенизации текста чистим его от стоп-слов и приводим к леммам, так как это уменьшает размерность словаря и в теории должно помочь численно объединить схожие по семантике тексты."
   ]
  },
  {
   "cell_type": "code",
   "execution_count": 0,
   "metadata": {
    "colab": {},
    "colab_type": "code",
    "id": "63cOUUBoyOKi"
   },
   "outputs": [],
   "source": [
    "tokenizer = RegexpTokenizer(r'\\w+')\n",
    "stop_words = set(stopwords.words('english') + ['the', 'a']) \n",
    "lemmatizer = WordNetLemmatizer()\n",
    "\n",
    "def process_docs(docs):\n",
    "  processed_docs = []\n",
    "  for doc in docs:\n",
    "    processed_docs.append(tokenize(doc.get('text'))) \n",
    "  return processed_docs\n",
    "\n",
    "def tokenize(text):\n",
    "    sentences = nltk.sent_tokenize(text)\n",
    "    tokens = []\n",
    "    for sentence in sentences:\n",
    "        words = tokenizer.tokenize(sentence)\n",
    "        lems = [lemmatizer.lemmatize(w.lower()) for w in words]\n",
    "        filt_tokens = [w.lower() for w in lems if not w in stop_words]\n",
    "        tokens = tokens + filt_tokens\n",
    "    return tokens"
   ]
  },
  {
   "cell_type": "markdown",
   "metadata": {
    "colab_type": "text",
    "id": "EmOewdB1uUZN"
   },
   "source": [
    "Лемматизируем тексты каждого документа в корпусе."
   ]
  },
  {
   "cell_type": "code",
   "execution_count": 0,
   "metadata": {
    "colab": {},
    "colab_type": "code",
    "id": "zp2ulwGuyUFc"
   },
   "outputs": [],
   "source": [
    "processed_data = process_docs(data)"
   ]
  },
  {
   "cell_type": "markdown",
   "metadata": {
    "colab_type": "text",
    "id": "AXBWqKwHufMG"
   },
   "source": [
    "Убеждаемся, что всё хорошо."
   ]
  },
  {
   "cell_type": "code",
   "execution_count": 0,
   "metadata": {
    "colab": {
     "base_uri": "https://localhost:8080/",
     "height": 34
    },
    "colab_type": "code",
    "id": "F2DKZa8svzha",
    "outputId": "a6bc34f8-5868-4724-f5ec-80c1422bb687"
   },
   "outputs": [
    {
     "data": {
      "text/plain": [
       "1692"
      ]
     },
     "execution_count": 184,
     "metadata": {
      "tags": []
     },
     "output_type": "execute_result"
    }
   ],
   "source": [
    "len(processed_data)"
   ]
  },
  {
   "cell_type": "code",
   "execution_count": 0,
   "metadata": {
    "colab": {
     "base_uri": "https://localhost:8080/",
     "height": 54
    },
    "colab_type": "code",
    "id": "ezeBQWeyyWep",
    "outputId": "20c56624-bba0-478c-9b5d-6421dfc66368"
   },
   "outputs": [
    {
     "name": "stdout",
     "output_type": "stream",
     "text": [
      "['cnn', 'yangtze', 'may', 'world', 'third', 'longest', 'river', 'served', 'world', 'biggest', 'river', 'cruise', 'ship', 'victoria', 'sabrina', 'ship', 'set', 'sail', 'china', 'largest', 'inland', 'body', 'water', '2020', 'ferrying', 'passenger', 'multiple', 'province', 'providing', 'view', 'three', 'gorge', 'dam', 'u', 'based', 'company', 'victoria', 'cruise', 'tell', 'cnn', 'travel', 'victoria', 'sabrina', 'due', 'make', 'maiden', 'voyage', '2020', 'luxury', 'ship', 'combine', 'western', 'chinese', 'design', 'element', 'related', 'content', 'world', 'longest', 'cruise', 'set', 'sail', 'london', 'stateroom', 'balcony', 'open', 'air', 'observation', 'deck', 'top', 'ship', 'provide', 'plenty', 'vantage', 'point', 'opportunity', 'enjoying', 'view', 'range', 'room', 'choice', 'available', 'smallest', 'option', 'stateroom', '275', 'square', 'foot', '26', 'square', 'meter', 'largest', 'posh', 'shangri', 'la', 'suite', '915', 'square', 'foot', '85', 'square', 'meter', 'room', '1', '320', 'square', 'foot', '123', 'square', 'meter', 'outdoor', 'balcony', 'space', 'fittingly', 'victoria', 'sabrina', 'onboard', 'restaurant', 'named', 'top', 'yangtze', 'call', 'recycling', 'silversea', 'cruise', 'ship', 'company', 'spending', '100', 'million', 'make', 'big', 'cruise', 'ship', 'smaller', 'one', 'already', 'three', 'gorge', 'dam', 'world', 'largest', 'hydropower', 'project', 'produce', '84', '7', 'billion', 'kilowatt', 'hour', 'electricity', 'every', 'year', 'opened', '2003', 'ha', 'created', 'greater', 'possibility', 'cruising', 'yangtze', 'new', 'ship', 'first', 'take', 'full', 'advantage', 'increased', 'water', 'level', 'yangtze', 'result', 'three', 'gorge', 'dam', 'larry', 'greenman', 'manager', 'public', 'relation', 'customer', 'service', 'victoria', 'cruise', 'line', 'said', 'statement', 'added', 'overall', 'experience', 'go', 'much', 'deeper', 'panoramic', 'vista', 'tradition', 'region', 'people', 'related', 'content', 'cruise', 'critic', 'pick', 'world', 'best', 'cruise', 'ship', '2019', 'china', 'emerging', 'one', 'world', 'biggest', 'market', 'travel', 'includes', 'cruise', 'ship']\n"
     ]
    }
   ],
   "source": [
    "print(processed_data[0])"
   ]
  },
  {
   "cell_type": "markdown",
   "metadata": {
    "colab_type": "text",
    "id": "jGfvyUQ15tll"
   },
   "source": [
    "## Word2Vec"
   ]
  },
  {
   "cell_type": "markdown",
   "metadata": {
    "colab_type": "text",
    "id": "Xd9TUxA5ybiE"
   },
   "source": [
    "### Подготовка корпуса из новостей для Word2Vec"
   ]
  },
  {
   "cell_type": "markdown",
   "metadata": {
    "colab_type": "text",
    "id": "7lM4iXAFu_su"
   },
   "source": [
    "Разбираем тексты из всего корпуса на предложения, чтобы в процессе эмбеддинга слова из разных предложений не пересекались."
   ]
  },
  {
   "cell_type": "code",
   "execution_count": 0,
   "metadata": {
    "colab": {},
    "colab_type": "code",
    "id": "K-xhpGiRyfqu"
   },
   "outputs": [],
   "source": [
    "tokenizer = RegexpTokenizer(r'\\w+')\n",
    "stop_words = set(stopwords.words('english') + ['the', 'a']) \n",
    "lemmatizer = WordNetLemmatizer()\n",
    "\n",
    "def make_sentences(docs):\n",
    "  processed_docs = []\n",
    "  for doc in docs:\n",
    "    processed_docs = processed_docs + tokenize(doc.get('text'))\n",
    "  return processed_docs\n",
    "\n",
    "def tokenize(text):\n",
    "    sentences = nltk.sent_tokenize(text)\n",
    "    tokens = []\n",
    "    for sentence in sentences:\n",
    "        words = tokenizer.tokenize(sentence)\n",
    "        lems = [lemmatizer.lemmatize(w.lower()) for w in words]\n",
    "        filt_tokens = [w for w in lems if not w in stop_words]\n",
    "        tokens.append([w.lower() for w in filt_tokens])\n",
    "    return tokens"
   ]
  },
  {
   "cell_type": "code",
   "execution_count": 0,
   "metadata": {
    "colab": {},
    "colab_type": "code",
    "id": "P7Bq6w0vyiul"
   },
   "outputs": [],
   "source": [
    "sentences = make_sentences(data)"
   ]
  },
  {
   "cell_type": "markdown",
   "metadata": {
    "colab_type": "text",
    "id": "YzVZbEBiynmU"
   },
   "source": [
    "Убеждаемся, что всё хорошо. На каждый документ приходится в среднем почти 40 предложений."
   ]
  },
  {
   "cell_type": "code",
   "execution_count": 0,
   "metadata": {
    "colab": {
     "base_uri": "https://localhost:8080/",
     "height": 34
    },
    "colab_type": "code",
    "id": "zWBjSaPryo7e",
    "outputId": "b5138818-1225-481f-88e0-1c1b32b64cca"
   },
   "outputs": [
    {
     "name": "stdout",
     "output_type": "stream",
     "text": [
      "40480\n"
     ]
    }
   ],
   "source": [
    "print(len(sentences))"
   ]
  },
  {
   "cell_type": "code",
   "execution_count": 0,
   "metadata": {
    "colab": {
     "base_uri": "https://localhost:8080/",
     "height": 34
    },
    "colab_type": "code",
    "id": "SqtDSm3Tyq1N",
    "outputId": "92dae3db-1eb4-4c56-d134-29950547ae3c"
   },
   "outputs": [
    {
     "name": "stdout",
     "output_type": "stream",
     "text": [
      "['cnn', 'yangtze', 'may', 'world', 'third', 'longest', 'river', 'served', 'world', 'biggest', 'river', 'cruise', 'ship']\n"
     ]
    }
   ],
   "source": [
    "print(sentences[0])"
   ]
  },
  {
   "cell_type": "markdown",
   "metadata": {
    "colab_type": "text",
    "id": "0I4tsLUyyt5J"
   },
   "source": [
    "### Создание модели"
   ]
  },
  {
   "cell_type": "markdown",
   "metadata": {
    "colab_type": "text",
    "id": "ts_4TKhBwVu9"
   },
   "source": [
    "Создаем модель с 200-мерным пространством, учим его полученными предложениями. Окно по дефолту: 5."
   ]
  },
  {
   "cell_type": "code",
   "execution_count": 0,
   "metadata": {
    "colab": {},
    "colab_type": "code",
    "id": "WkT23plhys_5"
   },
   "outputs": [],
   "source": [
    "model = Word2Vec(sentences, size=200)"
   ]
  },
  {
   "cell_type": "markdown",
   "metadata": {
    "colab_type": "text",
    "id": "-j9O9qRQyyjO"
   },
   "source": [
    "Проверка адекватности построенной модели. Всё хорошо."
   ]
  },
  {
   "cell_type": "code",
   "execution_count": 0,
   "metadata": {
    "colab": {
     "base_uri": "https://localhost:8080/",
     "height": 34
    },
    "colab_type": "code",
    "id": "I9TULkYayzNC",
    "outputId": "8117464c-6888-4375-a6c5-7fb5bd2ac621"
   },
   "outputs": [
    {
     "name": "stdout",
     "output_type": "stream",
     "text": [
      "[('spread', 0.9759364128112793), ('patient', 0.9636785984039307), ('disease', 0.9588758945465088)]\n"
     ]
    }
   ],
   "source": [
    "print(model.wv.most_similar('virus', topn=3))"
   ]
  },
  {
   "cell_type": "markdown",
   "metadata": {
    "colab_type": "text",
    "id": "Q70G-Lfqwv2l"
   },
   "source": [
    "Удобная прикладная штука, которая нам абсолютно не нужна, но путь будет."
   ]
  },
  {
   "cell_type": "code",
   "execution_count": 0,
   "metadata": {
    "colab": {},
    "colab_type": "code",
    "id": "whF6q6hfy3Mq"
   },
   "outputs": [],
   "source": [
    "def word2token(word):\n",
    "    try:\n",
    "        return model.wv.vocab[word].index\n",
    "    except KeyError:\n",
    "        return 0\n",
    "def token2word(token):\n",
    "    return model.wv.index2word[token]"
   ]
  },
  {
   "cell_type": "markdown",
   "metadata": {
    "colab_type": "text",
    "id": "P_qw58ldw-VA"
   },
   "source": [
    "Наглядный пример для понимания структуры модели. Всё корректно."
   ]
  },
  {
   "cell_type": "code",
   "execution_count": 0,
   "metadata": {
    "colab": {
     "base_uri": "https://localhost:8080/",
     "height": 68
    },
    "colab_type": "code",
    "id": "Cy4WflbUy5h4",
    "outputId": "0e259853-f3ee-4dde-f2ba-3b3825cd65f4"
   },
   "outputs": [
    {
     "name": "stdout",
     "output_type": "stream",
     "text": [
      "72\n",
      "virus\n",
      "(200,)\n"
     ]
    }
   ],
   "source": [
    "token_id = word2token('virus')\n",
    "print(token_id)\n",
    "print(token2word(token_id))\n",
    "token_vec = model.wv.syn0norm[token_id]\n",
    "print(token_vec.shape)"
   ]
  },
  {
   "cell_type": "markdown",
   "metadata": {
    "colab_type": "text",
    "id": "RVxjaonLy-0c"
   },
   "source": [
    "### Получение векторов для представления документов из модели Word2Vec"
   ]
  },
  {
   "cell_type": "markdown",
   "metadata": {
    "colab_type": "text",
    "id": "Rjt8r7CcxY0C"
   },
   "source": [
    "Две вспомогательные функции. Первая берет матожидание по пришедшим словам в контексте числовых векторов, вторая обобщает первую для работы с массивом текстов."
   ]
  },
  {
   "cell_type": "code",
   "execution_count": 0,
   "metadata": {
    "colab": {},
    "colab_type": "code",
    "id": "D-ButwQ8y_-k"
   },
   "outputs": [],
   "source": [
    "def word_averaging(wv, words):\n",
    "    all_words, mean = set(), []\n",
    "    \n",
    "    for word in words:\n",
    "        if isinstance(word, np.ndarray):\n",
    "            mean.append(word)\n",
    "        elif word in wv.vocab:\n",
    "            mean.append(wv.syn0norm[wv.vocab[word].index])\n",
    "            all_words.add(wv.vocab[word].index)\n",
    "\n",
    "    if not mean:\n",
    "        # logging.warning(\"cannot compute similarity with no input %s\", words)\n",
    "        # FIXME: remove these examples in pre-processing\n",
    "        return np.zeros(wv.vector_size,)\n",
    "\n",
    "    mean = gensim.matutils.unitvec(np.array(mean).mean(axis=0)).astype(np.float32)\n",
    "    return mean\n",
    "\n",
    "def  word_averaging_list(wv, text_list):\n",
    "    return np.vstack([word_averaging(wv, post) for post in text_list ])"
   ]
  },
  {
   "cell_type": "markdown",
   "metadata": {
    "colab_type": "text",
    "id": "31hIKztTx0XX"
   },
   "source": [
    "Получаем векторное представление документов ."
   ]
  },
  {
   "cell_type": "code",
   "execution_count": 0,
   "metadata": {
    "colab": {},
    "colab_type": "code",
    "id": "sRO6UI5kzCzE"
   },
   "outputs": [],
   "source": [
    "wv_data = word_averaging_list(model.wv, processed_data)"
   ]
  },
  {
   "cell_type": "markdown",
   "metadata": {
    "colab_type": "text",
    "id": "F7p1SyCvx5YQ"
   },
   "source": [
    "Убеждаемся, что ничего не напутали."
   ]
  },
  {
   "cell_type": "code",
   "execution_count": 0,
   "metadata": {
    "colab": {
     "base_uri": "https://localhost:8080/",
     "height": 34
    },
    "colab_type": "code",
    "id": "C-P0RxPmzFZT",
    "outputId": "33899c88-bfff-4107-80b3-ace1dae41d1b"
   },
   "outputs": [
    {
     "name": "stdout",
     "output_type": "stream",
     "text": [
      "(1692, 200)\n"
     ]
    }
   ],
   "source": [
    "print(wv_data.shape)"
   ]
  },
  {
   "cell_type": "markdown",
   "metadata": {
    "colab_type": "text",
    "id": "cy2Gnv4SzHh4"
   },
   "source": [
    "Для классификаторов шифруем названия категорий в числа."
   ]
  },
  {
   "cell_type": "code",
   "execution_count": 0,
   "metadata": {
    "colab": {
     "base_uri": "https://localhost:8080/",
     "height": 68
    },
    "colab_type": "code",
    "id": "OSkBrEtwzIoK",
    "outputId": "8c12102c-bef6-4538-b1d2-108f09eac8fd"
   },
   "outputs": [
    {
     "name": "stdout",
     "output_type": "stream",
     "text": [
      "['business' 'entertainment' 'health' 'science' 'sport' 'travel' 'uk'\n",
      " 'world']\n",
      "[0 1 2 3 4 5 6 7]\n"
     ]
    }
   ],
   "source": [
    "categories = []\n",
    "for doc in data:\n",
    "    categories.append(doc.get(\"category\"))\n",
    "\n",
    "le = preprocessing.LabelEncoder()\n",
    "le.fit(categories)\n",
    "\n",
    "print(np.unique(categories))\n",
    "print(le.transform(np.unique(categories)))\n",
    "\n",
    "y = le.transform(categories)"
   ]
  },
  {
   "cell_type": "markdown",
   "metadata": {
    "colab_type": "text",
    "id": "hbilHH8VyTZd"
   },
   "source": [
    "Всё зашифровали."
   ]
  },
  {
   "cell_type": "code",
   "execution_count": 0,
   "metadata": {
    "colab": {
     "base_uri": "https://localhost:8080/",
     "height": 34
    },
    "colab_type": "code",
    "id": "RU_4uogHzK2V",
    "outputId": "17e1bb1b-f4e8-475c-e167-aa7f44e3f862"
   },
   "outputs": [
    {
     "name": "stdout",
     "output_type": "stream",
     "text": [
      "(1692,)\n"
     ]
    }
   ],
   "source": [
    "print(y.shape)"
   ]
  },
  {
   "cell_type": "markdown",
   "metadata": {
    "colab_type": "text",
    "id": "VI7U_VUWzMhQ"
   },
   "source": [
    "Делим данные на трейн и тест. Учиться будем на 80%-ах."
   ]
  },
  {
   "cell_type": "code",
   "execution_count": 0,
   "metadata": {
    "colab": {},
    "colab_type": "code",
    "id": "1ssL_26RzNNe"
   },
   "outputs": [],
   "source": [
    "x_train, x_test, y_train, y_test = train_test_split(wv_data, y, test_size=0.2, random_state=42)"
   ]
  },
  {
   "cell_type": "markdown",
   "metadata": {
    "colab_type": "text",
    "id": "cXssKNnBzQ0R"
   },
   "source": [
    "### Классификация"
   ]
  },
  {
   "cell_type": "markdown",
   "metadata": {
    "colab_type": "text",
    "id": "nmgaFIluy0uv"
   },
   "source": [
    "Пробуем классифицировать с помощью логистической регрессии и проверяем адекватность модели метрикой F1-Score. Результаты, мягко говоря, оставляют желать лучшего."
   ]
  },
  {
   "cell_type": "code",
   "execution_count": 0,
   "metadata": {
    "colab": {
     "base_uri": "https://localhost:8080/",
     "height": 51
    },
    "colab_type": "code",
    "id": "-GMCRid3zRiG",
    "outputId": "00ac3669-1f54-461b-f3c7-33820bb8fedc"
   },
   "outputs": [
    {
     "name": "stdout",
     "output_type": "stream",
     "text": [
      "F1-SCORE  0.36900684563147923\n",
      "ACCURACY  0.44542772861356933\n"
     ]
    }
   ],
   "source": [
    "model = LogisticRegression().fit(x_train, y_train)\n",
    "regression_y = model.predict(x_test)\n",
    "\n",
    "print(\"F1-SCORE \", f1_score(y_test, regression_y, average='weighted')) \n",
    "print(\"ACCURACY \", accuracy_score(y_test, regression_y))"
   ]
  },
  {
   "cell_type": "markdown",
   "metadata": {
    "colab_type": "text",
    "id": "kW826RyrzJX_"
   },
   "source": [
    "У Random Forest получается лучше, но всё равно не то, что хотелось бы видеть."
   ]
  },
  {
   "cell_type": "code",
   "execution_count": 0,
   "metadata": {
    "colab": {
     "base_uri": "https://localhost:8080/",
     "height": 51
    },
    "colab_type": "code",
    "id": "uAnSfSWozSZA",
    "outputId": "1cb64330-9b28-459f-dd02-e526d42a94e1"
   },
   "outputs": [
    {
     "name": "stdout",
     "output_type": "stream",
     "text": [
      "F1-SCORE  0.6235672975151384\n",
      "ACCURACY  0.6253687315634219\n"
     ]
    }
   ],
   "source": [
    "model = RandomForestClassifier(n_estimators=500).fit(x_train, y_train)\n",
    "regression_y = model.predict(x_test) \n",
    "\n",
    "print(\"F1-SCORE \", f1_score(y_test, regression_y, average='weighted')) \n",
    "print(\"ACCURACY \", accuracy_score(y_test, regression_y))"
   ]
  },
  {
   "cell_type": "markdown",
   "metadata": {
    "colab_type": "text",
    "id": "KWHKYm2izUYg"
   },
   "source": [
    "До боли знакомый код.."
   ]
  },
  {
   "cell_type": "code",
   "execution_count": 0,
   "metadata": {
    "colab": {},
    "colab_type": "code",
    "id": "JwfcQAsGzWDk"
   },
   "outputs": [],
   "source": [
    "def plot_confusion_matrix(cm, title='Contingency matrix'):\n",
    "    initial_categories = ['business', 'entertainment', 'health', 'science', 'sport', 'travel', 'uk', 'world']\n",
    "    cm = cm.astype('float') / cm.sum(axis=1)[:, np.newaxis]\n",
    "\n",
    "    plt.figure(figsize=(15, 15))\n",
    "    plt.imshow(cm, interpolation='nearest', cmap=plt.cm.Blues)\n",
    "    plt.title(title, fontsize=20)\n",
    "    plt.colorbar()\n",
    "    tick_marks = np.arange(cm.shape[0])\n",
    "    classes = [x.split('.')[-1] for x in initial_categories]\n",
    "    plt.xticks(tick_marks, classes, rotation=45, size=14)\n",
    "    plt.yticks(tick_marks, classes, size=14)\n",
    "\n",
    "    thresh = cm.max() / 2.\n",
    "    for i, j in itertools.product(range(cm.shape[0]), range(cm.shape[1])):\n",
    "        plt.text(j, i, format(cm[i, j], '.2f'),\n",
    "                 horizontalalignment=\"center\",\n",
    "                 color=\"white\" if cm[i, j] > thresh else \"black\")\n",
    "\n",
    "    plt.tight_layout()\n",
    "    plt.ylabel('True label', fontsize=18)\n",
    "    plt.xlabel('Predicted label', fontsize=18)"
   ]
  },
  {
   "cell_type": "markdown",
   "metadata": {
    "colab_type": "text",
    "id": "Ae5b5e4qzfx1"
   },
   "source": [
    "Смотрим на результаты натренированного нами Word2Vec и Random Forest. Видим, что есть хорошо понятую эмбеддингом спортивную семантику слов, а также относительно неплохо поняты слова про путешествия. Но в целом это далеко не лучший результат."
   ]
  },
  {
   "cell_type": "code",
   "execution_count": 0,
   "metadata": {
    "colab": {
     "base_uri": "https://localhost:8080/",
     "height": 1000
    },
    "colab_type": "code",
    "id": "mSWHhgZLzYue",
    "outputId": "9597d155-61f7-4da2-f5a0-9faf2fbfebdb"
   },
   "outputs": [
    {
     "data": {
      "image/png": "[encoded data removed]",
      "text/plain": [
       "<Figure size 1080x1080 with 2 Axes>"
      ]
     },
     "metadata": {
      "tags": []
     },
     "output_type": "display_data"
    }
   ],
   "source": [
    "cmt_gbt = confusion_matrix(y_test, regression_y)\n",
    "plot_confusion_matrix(cmt_gbt, title='Confusion Matrix, Random Forest')"
   ]
  },
  {
   "cell_type": "markdown",
   "metadata": {
    "colab_type": "text",
    "id": "q9eC3runzi1c"
   },
   "source": [
    "## Pre-trained Word2Vec"
   ]
  },
  {
   "cell_type": "markdown",
   "metadata": {
    "colab_type": "text",
    "id": "HMNDoI8t0Uu6"
   },
   "source": [
    "Возможно Word2Vec как архитектура не так плоха на самом деле, для этого мы проверим её на претрейненной модели от гугла."
   ]
  },
  {
   "cell_type": "markdown",
   "metadata": {
    "colab_type": "text",
    "id": "TVKIK9-d6vEy"
   },
   "source": [
    "### Загрузка модели"
   ]
  },
  {
   "cell_type": "code",
   "execution_count": 0,
   "metadata": {
    "colab": {
     "base_uri": "https://localhost:8080/",
     "height": 136
    },
    "colab_type": "code",
    "id": "04DfSJ4Jzj66",
    "outputId": "4f004d17-90c3-49ee-fa5c-46c7e7fd33b7"
   },
   "outputs": [
    {
     "name": "stdout",
     "output_type": "stream",
     "text": [
      "--2020-03-03 13:12:20--  https://s3.amazonaws.com/dl4j-distribution/GoogleNews-vectors-negative300.bin.gz\n",
      "Resolving s3.amazonaws.com (s3.amazonaws.com)... 52.216.140.206\n",
      "Connecting to s3.amazonaws.com (s3.amazonaws.com)|52.216.140.206|:443... connected.\n",
      "HTTP request sent, awaiting response... 416 Requested Range Not Satisfiable\n",
      "\n",
      "    The file is already fully retrieved; nothing to do.\n",
      "\n"
     ]
    }
   ],
   "source": [
    "!wget -c \"https://s3.amazonaws.com/dl4j-distribution/GoogleNews-vectors-negative300.bin.gz\""
   ]
  },
  {
   "cell_type": "markdown",
   "metadata": {
    "colab_type": "text",
    "id": "A7D5IpQt0lYF"
   },
   "source": [
    "Грузим модельку, оперативная память коллаба начинает болеть."
   ]
  },
  {
   "cell_type": "code",
   "execution_count": 0,
   "metadata": {
    "colab": {},
    "colab_type": "code",
    "id": "AgIibV9NzvvO"
   },
   "outputs": [],
   "source": [
    "model = KeyedVectors.load_word2vec_format('/content/GoogleNews-vectors-negative300.bin.gz', binary=True)"
   ]
  },
  {
   "cell_type": "markdown",
   "metadata": {
    "colab_type": "text",
    "id": "seH5wEQ60uBh"
   },
   "source": [
    "Проверяем её на адекватность. Адекватно."
   ]
  },
  {
   "cell_type": "code",
   "execution_count": 0,
   "metadata": {
    "colab": {
     "base_uri": "https://localhost:8080/",
     "height": 34
    },
    "colab_type": "code",
    "id": "WLV-BU-30Nb2",
    "outputId": "6f03350a-f738-4065-cd56-8ee2bc0d68da"
   },
   "outputs": [
    {
     "name": "stdout",
     "output_type": "stream",
     "text": [
      "[('flu_virus', 0.7795438766479492), ('viruses', 0.7687499523162842), ('H#N#_virus', 0.7382203340530396)]\n"
     ]
    }
   ],
   "source": [
    "print(model.wv.most_similar('virus', topn=3))"
   ]
  },
  {
   "cell_type": "markdown",
   "metadata": {
    "colab_type": "text",
    "id": "UOKn-2Fc01sG"
   },
   "source": [
    "На новой модели собираем новые описательные векторы для документов."
   ]
  },
  {
   "cell_type": "code",
   "execution_count": 0,
   "metadata": {
    "colab": {},
    "colab_type": "code",
    "id": "H81USMiD0TOY"
   },
   "outputs": [],
   "source": [
    "wv_data = word_averaging_list(model.wv, processed_data)"
   ]
  },
  {
   "cell_type": "markdown",
   "metadata": {
    "colab_type": "text",
    "id": "qDQfiEF66qLY"
   },
   "source": [
    "### Классификация"
   ]
  },
  {
   "cell_type": "markdown",
   "metadata": {
    "colab_type": "text",
    "id": "PJhiZq5G1FBc"
   },
   "source": [
    "Разбиваем полученную информацию на трейн и тест."
   ]
  },
  {
   "cell_type": "code",
   "execution_count": 0,
   "metadata": {
    "colab": {},
    "colab_type": "code",
    "id": "iG7HcrP60Vyh"
   },
   "outputs": [],
   "source": [
    "x_train, x_test, y_train, y_test = train_test_split(wv_data, y, test_size=0.2, random_state=42)"
   ]
  },
  {
   "cell_type": "markdown",
   "metadata": {
    "colab_type": "text",
    "id": "Hu6Ic3v_1Ipw"
   },
   "source": [
    "В этот раз случайный лес справился не так хорошо,"
   ]
  },
  {
   "cell_type": "code",
   "execution_count": 0,
   "metadata": {
    "colab": {
     "base_uri": "https://localhost:8080/",
     "height": 51
    },
    "colab_type": "code",
    "id": "35KTJ8cc0XIm",
    "outputId": "e8a03923-a6ef-4a99-adf4-bbdcf6b4902b"
   },
   "outputs": [
    {
     "name": "stdout",
     "output_type": "stream",
     "text": [
      "F1-SCORE  0.7530032921854711\n",
      "ACCURACY  0.7522123893805309\n"
     ]
    }
   ],
   "source": [
    "model = RandomForestClassifier(n_estimators=500).fit(x_train, y_train)\n",
    "regression_y = model.predict(x_test) \n",
    "\n",
    "print(\"F1-SCORE \", f1_score(y_test, regression_y, average='weighted')) \n",
    "print(\"ACCURACY \", accuracy_score(y_test, regression_y))"
   ]
  },
  {
   "cell_type": "markdown",
   "metadata": {
    "colab_type": "text",
    "id": "1q_VxWY81O7w"
   },
   "source": [
    ", как это сделала логистическая регрессия."
   ]
  },
  {
   "cell_type": "code",
   "execution_count": 0,
   "metadata": {
    "colab": {
     "base_uri": "https://localhost:8080/",
     "height": 51
    },
    "colab_type": "code",
    "id": "lUz-o5ib0ZGj",
    "outputId": "3d274cb4-b8e4-437e-8f74-25cecebd2f6e"
   },
   "outputs": [
    {
     "name": "stdout",
     "output_type": "stream",
     "text": [
      "F1-SCORE  0.7714540929307404\n",
      "ACCURACY  0.775811209439528\n"
     ]
    }
   ],
   "source": [
    "model = LogisticRegression().fit(x_train, y_train)\n",
    "regression_y = model.predict(x_test)\n",
    "\n",
    "print(\"F1-SCORE \", f1_score(y_test, regression_y, average='weighted')) \n",
    "print(\"ACCURACY \", accuracy_score(y_test, regression_y))"
   ]
  },
  {
   "cell_type": "markdown",
   "metadata": {
    "colab_type": "text",
    "id": "NZBrgzPG1Tl4"
   },
   "source": [
    "В целом результат стал более приятным на точность, да и матричный вид тоже выглядит получше, чем было. Хуже всех была понята \"наука\". Наверное, потому что без науки сейчас никуда во всех остальных сферах жизни. ¯\\\\_(ツ)_/¯"
   ]
  },
  {
   "cell_type": "code",
   "execution_count": 0,
   "metadata": {
    "colab": {
     "base_uri": "https://localhost:8080/",
     "height": 1000
    },
    "colab_type": "code",
    "id": "CH8PoKLt0dQA",
    "outputId": "460683d5-0986-44bf-f04b-2b373fc2ae2b"
   },
   "outputs": [
    {
     "data": {
      "image/png": "[encoded data removed]",
      "text/plain": [
       "<Figure size 1080x1080 with 2 Axes>"
      ]
     },
     "metadata": {
      "tags": []
     },
     "output_type": "display_data"
    }
   ],
   "source": [
    "cmt_gbt = confusion_matrix(y_test, regression_y)\n",
    "plot_confusion_matrix(cmt_gbt, title='Confusion Matrix, Logistic Regression')"
   ]
  },
  {
   "cell_type": "markdown",
   "metadata": {
    "colab_type": "text",
    "id": "z04cvQnw0gXh"
   },
   "source": [
    "## Doc2Vec"
   ]
  },
  {
   "cell_type": "markdown",
   "metadata": {
    "colab_type": "text",
    "id": "KbMRpUXI2ASr"
   },
   "source": [
    "Пробуем расширенную дополнительной информацией архитектуру Word2Vec: Doc2Vec. Для начала сплитим очищенные данные о документах на трейн и тест. В данную секунду не сказал бы, что делать это именно сейчас - хорошая идея, но всё уже написано и работает:)"
   ]
  },
  {
   "cell_type": "code",
   "execution_count": 0,
   "metadata": {
    "colab": {},
    "colab_type": "code",
    "id": "UWh87CjG0h-e"
   },
   "outputs": [],
   "source": [
    "xx_train, xx_test, yy_train, yy_test = train_test_split(processed_data, categories, test_size=0.2, random_state=42)"
   ]
  },
  {
   "cell_type": "markdown",
   "metadata": {
    "colab_type": "text",
    "id": "4fZNo4Mh2cLy"
   },
   "source": [
    "Далее с помощью специального объекта сливаем воедино информацию о текстах и о категориях документов."
   ]
  },
  {
   "cell_type": "code",
   "execution_count": 0,
   "metadata": {
    "colab": {},
    "colab_type": "code",
    "id": "DMra-T6E0kVe"
   },
   "outputs": [],
   "source": [
    "train_tagged = []\n",
    "for i in range(0, len(xx_train)):\n",
    "  train_tagged.append(TaggedDocument(words=xx_train[i], tags=yy_train[i]))\n",
    "test_tagged = []\n",
    "for i in range(0, len(xx_test)):\n",
    "  test_tagged.append(TaggedDocument(words=xx_test[i], tags=yy_test[i]))"
   ]
  },
  {
   "cell_type": "markdown",
   "metadata": {
    "colab_type": "text",
    "id": "omkmBRz623o9"
   },
   "source": [
    "Убеждаемся, что сделали всё правильно."
   ]
  },
  {
   "cell_type": "code",
   "execution_count": 0,
   "metadata": {
    "colab": {
     "base_uri": "https://localhost:8080/",
     "height": 54
    },
    "colab_type": "code",
    "id": "rHl_Np7k0l_h",
    "outputId": "20d42b04-22ba-4583-c5bd-ec9a6703bfa7"
   },
   "outputs": [
    {
     "name": "stdout",
     "output_type": "stream",
     "text": [
      "['image', 'copyright', 'reuters', 'image', 'caption', 'demonstrator', 'tuzla', 'bosnia', 'herzegovina', 'want', 'government', 'take', 'action', 'pollution', 'city', 'across', 'southern', 'europe', 'experiencing', 'dangerously', 'high', 'level', 'smog', 'caused', 'prolonged', 'period', 'dry', 'sunny', 'weather', 'light', 'wind', 'temporary', 'ban', 'diesel', 'vehicle', 'ordered', 'major', 'italian', 'city', 'including', 'capital', 'rome', 'effort', 'reduce', 'pollution', 'bosnia', 'herzegovina', 'protester', 'taken', 'street', 'gas', 'mask', 'demanding', 'action', 'government', 'environmentalist', 'described', 'situation', 'smog', 'emergency', 'rome', 'diesel', 'car', 'van', 'motorbike', 'banned', 'peak', 'time', 'polluting', 'vehicle', 'banned', 'altogether', 'restriction', 'set', 'remain', 'place', 'next', 'three', 'day', 'expected', 'affect', 'one', 'million', 'vehicle', 'least', 'nine', '13', 'area', 'rome', 'monitor', 'particulate', 'matter', 'fine', 'dust', 'known', 'pm10', 'recorded', 'level', 'week', 'excess', 'legal', 'limit', 'italy', 'il', 'messaggero', 'reported', 'image', 'copyright', 'getty', 'image', 'image', 'caption', 'air', 'quality', 'monitoring', 'station', 'rome', 'recorded', 'high', 'level', 'harmful', 'particulate', 'environmentalist', 'group', 'complained', 'rome', 'city', 'council', 'ha', 'slow', 'act', 'reported', 'result', 'north', 'air', 'pollution', 'typically', 'worse', 'milan', 'turin', 'bologna', 'among', 'city', 'take', 'similar', 'action', 'recording', 'sharp', 'rise', 'particulate', 'matter', 'italy', 'permitted', 'limit', 'pm10', 'particle', '50', 'microgram', 'per', 'cubic', 'metre', 'recent', 'day', 'limit', 'ha', 'exceeded', 'especially', 'north', 'monitoring', 'station', 'near', 'bologna', 'show', 'level', 'high', '125', 'microgram', 'per', 'cubic', 'metre', 'high', 'concentration', 'pm10', 'pm2', '5', 'particle', 'pose', 'significant', 'health', 'risk', 'small', 'enough', 'penetrate', 'deep', 'lung', 'common', 'source', 'vehicle', 'engine', 'emission', 'meanwhile', 'protest', 'taking', 'place', 'city', 'town', 'across', 'bosnia', 'herzegovina', 'wednesday', 'hundred', 'people', 'wearing', 'respirator', 'face', 'mask', 'gathered', 'northern', 'city', 'tuzla', 'demand', 'urgent', 'action', 'improve', 'air', 'quality', 'capital', 'sarajevo', 'government', 'official', 'holding', 'emergency', 'meeting', 'discus', 'measure', 'curb', 'pollution', 'episode', 'alarm', 'wa', 'declared', 'weekend', 'ban', 'wa', 'put', 'place', 'reduce', 'number', 'vehicle', 'road', 'image', 'copyright', 'epa', 'image', 'caption', 'authority', 'bosnian', 'capital', 'sarajevo', 'discussing', 'urgent', 'measure', 'curb', 'pollution', 'local', 'resident', 'also', 'advised', 'head', 'mountain', 'air', 'cleaner', 'cheap', 'ticket', 'made', 'available', 'cable', 'car', 'meeting', 'due', 'held', 'friday', 'sarajevo', 'among', 'city', 'record', 'worst', 'level', 'air', 'pollution', 'recent', 'day', 'along', 'capital', 'city', 'neighbouring', 'serbia', 'kosovo', 'macedonia', 'serbia', 'government', 'held', 'emergency', 'meeting', 'wednesday', 'resident', 'warned', 'remain', 'indoors', 'avoid', 'physical', 'activity', 'especially', 'health', 'condition', 'asthma', 'serbia', 'prime', 'minister', 'ana', 'brnabic', 'blamed', 'household', 'heating', 'older', 'diesel', 'car', 'high', 'pollution', 'level', 'brnabic', 'said', 'measure', 'tackle', 'issue', 'would', 'include', 'stricter', 'check', 'vehicle', 'emission', 'improving', 'replacing', 'filter', 'power', 'station', 'longer', 'term', 'programme', 'tree', 'planting', 'might', 'also', 'interested']\n"
     ]
    }
   ],
   "source": [
    "print(xx_train[0])"
   ]
  },
  {
   "cell_type": "code",
   "execution_count": 0,
   "metadata": {
    "colab": {
     "base_uri": "https://localhost:8080/",
     "height": 71
    },
    "colab_type": "code",
    "id": "N4fyViCK0neH",
    "outputId": "853c8036-154e-45fe-fee6-a82cb603904b"
   },
   "outputs": [
    {
     "name": "stdout",
     "output_type": "stream",
     "text": [
      "1353\n",
      "TaggedDocument(['image', 'copyright', 'reuters', 'image', 'caption', 'demonstrator', 'tuzla', 'bosnia', 'herzegovina', 'want', 'government', 'take', 'action', 'pollution', 'city', 'across', 'southern', 'europe', 'experiencing', 'dangerously', 'high', 'level', 'smog', 'caused', 'prolonged', 'period', 'dry', 'sunny', 'weather', 'light', 'wind', 'temporary', 'ban', 'diesel', 'vehicle', 'ordered', 'major', 'italian', 'city', 'including', 'capital', 'rome', 'effort', 'reduce', 'pollution', 'bosnia', 'herzegovina', 'protester', 'taken', 'street', 'gas', 'mask', 'demanding', 'action', 'government', 'environmentalist', 'described', 'situation', 'smog', 'emergency', 'rome', 'diesel', 'car', 'van', 'motorbike', 'banned', 'peak', 'time', 'polluting', 'vehicle', 'banned', 'altogether', 'restriction', 'set', 'remain', 'place', 'next', 'three', 'day', 'expected', 'affect', 'one', 'million', 'vehicle', 'least', 'nine', '13', 'area', 'rome', 'monitor', 'particulate', 'matter', 'fine', 'dust', 'known', 'pm10', 'recorded', 'level', 'week', 'excess', 'legal', 'limit', 'italy', 'il', 'messaggero', 'reported', 'image', 'copyright', 'getty', 'image', 'image', 'caption', 'air', 'quality', 'monitoring', 'station', 'rome', 'recorded', 'high', 'level', 'harmful', 'particulate', 'environmentalist', 'group', 'complained', 'rome', 'city', 'council', 'ha', 'slow', 'act', 'reported', 'result', 'north', 'air', 'pollution', 'typically', 'worse', 'milan', 'turin', 'bologna', 'among', 'city', 'take', 'similar', 'action', 'recording', 'sharp', 'rise', 'particulate', 'matter', 'italy', 'permitted', 'limit', 'pm10', 'particle', '50', 'microgram', 'per', 'cubic', 'metre', 'recent', 'day', 'limit', 'ha', 'exceeded', 'especially', 'north', 'monitoring', 'station', 'near', 'bologna', 'show', 'level', 'high', '125', 'microgram', 'per', 'cubic', 'metre', 'high', 'concentration', 'pm10', 'pm2', '5', 'particle', 'pose', 'significant', 'health', 'risk', 'small', 'enough', 'penetrate', 'deep', 'lung', 'common', 'source', 'vehicle', 'engine', 'emission', 'meanwhile', 'protest', 'taking', 'place', 'city', 'town', 'across', 'bosnia', 'herzegovina', 'wednesday', 'hundred', 'people', 'wearing', 'respirator', 'face', 'mask', 'gathered', 'northern', 'city', 'tuzla', 'demand', 'urgent', 'action', 'improve', 'air', 'quality', 'capital', 'sarajevo', 'government', 'official', 'holding', 'emergency', 'meeting', 'discus', 'measure', 'curb', 'pollution', 'episode', 'alarm', 'wa', 'declared', 'weekend', 'ban', 'wa', 'put', 'place', 'reduce', 'number', 'vehicle', 'road', 'image', 'copyright', 'epa', 'image', 'caption', 'authority', 'bosnian', 'capital', 'sarajevo', 'discussing', 'urgent', 'measure', 'curb', 'pollution', 'local', 'resident', 'also', 'advised', 'head', 'mountain', 'air', 'cleaner', 'cheap', 'ticket', 'made', 'available', 'cable', 'car', 'meeting', 'due', 'held', 'friday', 'sarajevo', 'among', 'city', 'record', 'worst', 'level', 'air', 'pollution', 'recent', 'day', 'along', 'capital', 'city', 'neighbouring', 'serbia', 'kosovo', 'macedonia', 'serbia', 'government', 'held', 'emergency', 'meeting', 'wednesday', 'resident', 'warned', 'remain', 'indoors', 'avoid', 'physical', 'activity', 'especially', 'health', 'condition', 'asthma', 'serbia', 'prime', 'minister', 'ana', 'brnabic', 'blamed', 'household', 'heating', 'older', 'diesel', 'car', 'high', 'pollution', 'level', 'brnabic', 'said', 'measure', 'tackle', 'issue', 'would', 'include', 'stricter', 'check', 'vehicle', 'emission', 'improving', 'replacing', 'filter', 'power', 'station', 'longer', 'term', 'programme', 'tree', 'planting', 'might', 'also', 'interested'], world)\n"
     ]
    }
   ],
   "source": [
    "print(len(xx_train))\n",
    "print(train_tagged[0])"
   ]
  },
  {
   "cell_type": "markdown",
   "metadata": {
    "colab_type": "text",
    "id": "O59XEfVR0qzt"
   },
   "source": [
    "### Создание модели Doc2Vec"
   ]
  },
  {
   "cell_type": "markdown",
   "metadata": {
    "colab_type": "text",
    "id": "UkRiw1oH2_fS"
   },
   "source": [
    "Создаём модели и сообщаем ей общий для всех тренировочных данных вокабуляр."
   ]
  },
  {
   "cell_type": "code",
   "execution_count": 0,
   "metadata": {
    "colab": {
     "base_uri": "https://localhost:8080/",
     "height": 34
    },
    "colab_type": "code",
    "id": "r2WafDX70pOO",
    "outputId": "117de034-cd47-4bed-d7eb-88226a232a0b"
   },
   "outputs": [
    {
     "name": "stderr",
     "output_type": "stream",
     "text": [
      "100%|██████████| 1353/1353 [00:00<00:00, 1020847.87it/s]\n"
     ]
    }
   ],
   "source": [
    "model_dbow = Doc2Vec(dm=0, vector_size=300, negative=5, hs=0, min_count=2, sample = 0)\n",
    "model_dbow.build_vocab([x for x in tqdm(train_tagged)])"
   ]
  },
  {
   "cell_type": "markdown",
   "metadata": {
    "colab_type": "text",
    "id": "Cfp935nV3MEU"
   },
   "source": [
    "Учим модельку 10 эпох с понижением LR на 0.002 в каждой эпохе."
   ]
  },
  {
   "cell_type": "code",
   "execution_count": 0,
   "metadata": {
    "colab": {
     "base_uri": "https://localhost:8080/",
     "height": 187
    },
    "colab_type": "code",
    "id": "znJfzevb0uhF",
    "outputId": "8d6a2d5f-9e14-4d7f-dbd9-7b878d0b3c9b"
   },
   "outputs": [
    {
     "name": "stderr",
     "output_type": "stream",
     "text": [
      "100%|██████████| 1353/1353 [00:00<00:00, 1015549.98it/s]\n",
      "100%|██████████| 1353/1353 [00:00<00:00, 1399480.47it/s]\n",
      "100%|██████████| 1353/1353 [00:00<00:00, 1472850.59it/s]\n",
      "100%|██████████| 1353/1353 [00:00<00:00, 1265305.09it/s]\n",
      "100%|██████████| 1353/1353 [00:00<00:00, 775046.89it/s]\n",
      "100%|██████████| 1353/1353 [00:00<00:00, 1403634.26it/s]\n",
      "100%|██████████| 1353/1353 [00:00<00:00, 610203.58it/s]\n",
      "100%|██████████| 1353/1353 [00:00<00:00, 297832.13it/s]\n",
      "100%|██████████| 1353/1353 [00:00<00:00, 1631654.20it/s]\n",
      "100%|██████████| 1353/1353 [00:00<00:00, 537598.84it/s]\n"
     ]
    }
   ],
   "source": [
    "for epoch in range(10):\n",
    "    model_dbow.train(utils.shuffle([x for x in tqdm(train_tagged)]), total_examples=len(train_tagged), epochs=1)\n",
    "    model_dbow.alpha -= 0.002\n",
    "    model_dbow.min_alpha = model_dbow.alpha"
   ]
  },
  {
   "cell_type": "markdown",
   "metadata": {
    "colab_type": "text",
    "id": "KV7EPKq93ePK"
   },
   "source": [
    "Теперь нам надо эту информацию привести к формату для классификации, чем мы и занимаемся."
   ]
  },
  {
   "cell_type": "code",
   "execution_count": 0,
   "metadata": {
    "colab": {},
    "colab_type": "code",
    "id": "uEtgzJ6U0xP4"
   },
   "outputs": [],
   "source": [
    "def vec_for_learning(model, tagged_docs):\n",
    "    sents = tagged_docs\n",
    "    targets, regressors = zip(*[(doc.tags, model.infer_vector(doc.words, steps=20)) for doc in sents])\n",
    "    return targets, regressors"
   ]
  },
  {
   "cell_type": "markdown",
   "metadata": {
    "colab_type": "text",
    "id": "Axrsrosf4uEz"
   },
   "source": [
    "Привели."
   ]
  },
  {
   "cell_type": "code",
   "execution_count": 0,
   "metadata": {
    "colab": {},
    "colab_type": "code",
    "id": "zVLwBKVy08wG"
   },
   "outputs": [],
   "source": [
    "y_train, x_train = vec_for_learning(model_dbow, train_tagged)\n",
    "y_test, x_test = vec_for_learning(model_dbow, test_tagged)"
   ]
  },
  {
   "cell_type": "markdown",
   "metadata": {
    "colab_type": "text",
    "id": "kpbsi-484yCd"
   },
   "source": [
    "Классы на месте."
   ]
  },
  {
   "cell_type": "code",
   "execution_count": 0,
   "metadata": {
    "colab": {
     "base_uri": "https://localhost:8080/",
     "height": 51
    },
    "colab_type": "code",
    "id": "h1tk5goJ0_Hb",
    "outputId": "c2fa601c-7ed3-4e0b-ba39-46963356d819"
   },
   "outputs": [
    {
     "name": "stdout",
     "output_type": "stream",
     "text": [
      "['business' 'entertainment' 'health' 'science' 'sport' 'travel' 'uk'\n",
      " 'world']\n"
     ]
    }
   ],
   "source": [
    "print(np.unique(y_test + y_train))"
   ]
  },
  {
   "cell_type": "markdown",
   "metadata": {
    "colab_type": "text",
    "id": "nyjo5xSr1Jaj"
   },
   "source": [
    "### Классификация"
   ]
  },
  {
   "cell_type": "markdown",
   "metadata": {
    "colab_type": "text",
    "id": "IigVq7Nr42qM"
   },
   "source": [
    "Поставлен локальный рекорд по точности с помощью логистической регрессии."
   ]
  },
  {
   "cell_type": "code",
   "execution_count": 0,
   "metadata": {
    "colab": {
     "base_uri": "https://localhost:8080/",
     "height": 51
    },
    "colab_type": "code",
    "id": "XQa4WfSR1Mm0",
    "outputId": "17b3d642-0b0e-44f2-8a9d-42a23aaf7528"
   },
   "outputs": [
    {
     "name": "stdout",
     "output_type": "stream",
     "text": [
      "F1-SCORE  0.8167654263460772\n",
      "ACCURACY  0.8171091445427728\n"
     ]
    }
   ],
   "source": [
    "model = LogisticRegression().fit(x_train, y_train)\n",
    "regression_y = model.predict(x_test)\n",
    "\n",
    "print(\"F1-SCORE \", f1_score(y_test, regression_y, average='weighted')) \n",
    "print(\"ACCURACY \", accuracy_score(y_test, regression_y))"
   ]
  },
  {
   "cell_type": "markdown",
   "metadata": {
    "colab_type": "text",
    "id": "8BzkHYpy5GXy"
   },
   "source": [
    "Но, к сожалению(нет), случайный лес этот рекорд тут же побил."
   ]
  },
  {
   "cell_type": "code",
   "execution_count": 0,
   "metadata": {
    "colab": {
     "base_uri": "https://localhost:8080/",
     "height": 51
    },
    "colab_type": "code",
    "id": "W_Ygy8mP1WiV",
    "outputId": "01622524-978d-41c9-f2f4-4264218d332e"
   },
   "outputs": [
    {
     "name": "stdout",
     "output_type": "stream",
     "text": [
      "F1-SCORE  0.8349354503311782\n",
      "ACCURACY  0.8348082595870207\n"
     ]
    }
   ],
   "source": [
    "model = RandomForestClassifier(n_estimators=500).fit(x_train, y_train)\n",
    "regression_y = model.predict(x_test) \n",
    "\n",
    "print(\"F1-SCORE \", f1_score(y_test, regression_y, average='weighted')) \n",
    "print(\"ACCURACY \", accuracy_score(y_test, regression_y))"
   ]
  },
  {
   "cell_type": "markdown",
   "metadata": {
    "colab_type": "text",
    "id": "MwRRwMkm5PTp"
   },
   "source": [
    "Оценка: в целом это уже хороший репрезентабельный результат, которым можно довольствоваться. Картину портит категория \"здоровье\", которая относительно часто путается с \"миром\". В принципе, в свете последний событий это не очень-то удивительно."
   ]
  },
  {
   "cell_type": "code",
   "execution_count": 0,
   "metadata": {
    "colab": {
     "base_uri": "https://localhost:8080/",
     "height": 1000
    },
    "colab_type": "code",
    "id": "M-aTI19P1gmd",
    "outputId": "7f0abc1f-899b-4388-ad16-51a6dff86fd3"
   },
   "outputs": [
    {
     "data": {
      "image/png": "[encoded data removed]",
      "text/plain": [
       "<Figure size 1080x1080 with 2 Axes>"
      ]
     },
     "metadata": {
      "tags": []
     },
     "output_type": "display_data"
    }
   ],
   "source": [
    "cmt_gbt = confusion_matrix(y_test, regression_y)\n",
    "plot_confusion_matrix(cmt_gbt, title='Confusion Matrix, Random Forest')"
   ]
  },
  {
   "cell_type": "markdown",
   "metadata": {
    "colab_type": "text",
    "id": "D4lwwtI32Fxu"
   },
   "source": [
    "## Glove"
   ]
  },
  {
   "cell_type": "markdown",
   "metadata": {
    "colab_type": "text",
    "id": "pfXZPkhA6FQk"
   },
   "source": [
    "Смотрим, что еще может помочь нам улучшить точность. Glove. Годится, качаем."
   ]
  },
  {
   "cell_type": "code",
   "execution_count": 0,
   "metadata": {
    "colab": {
     "base_uri": "https://localhost:8080/",
     "height": 241
    },
    "colab_type": "code",
    "id": "73shVCf42INA",
    "outputId": "5afef120-3a3c-498e-f166-1e8fd2d05130"
   },
   "outputs": [
    {
     "name": "stdout",
     "output_type": "stream",
     "text": [
      "Collecting glove_python\n",
      "\u001b[?25l  Downloading https://files.pythonhosted.org/packages/3e/79/7e7e548dd9dcb741935d031117f4bed133276c2a047aadad42f1552d1771/glove_python-0.1.0.tar.gz (263kB)\n",
      "\u001b[K     |████████████████████████████████| 266kB 2.8MB/s \n",
      "\u001b[?25hRequirement already satisfied: numpy in /usr/local/lib/python3.6/dist-packages (from glove_python) (1.17.5)\n",
      "Requirement already satisfied: scipy in /usr/local/lib/python3.6/dist-packages (from glove_python) (1.4.1)\n",
      "Building wheels for collected packages: glove-python\n",
      "  Building wheel for glove-python (setup.py) ... \u001b[?25l\u001b[?25hdone\n",
      "  Created wheel for glove-python: filename=glove_python-0.1.0-cp36-cp36m-linux_x86_64.whl size=700329 sha256=8c654a7955aed82318afdd2177c2c3f35280e37c107b4fdd2da4283577600fa5\n",
      "  Stored in directory: /root/.cache/pip/wheels/88/4b/6d/10c0d2ad32c9d9d68beec9694a6f0b6e83ab1662a90a089a4b\n",
      "Successfully built glove-python\n",
      "Installing collected packages: glove-python\n",
      "Successfully installed glove-python-0.1.0\n"
     ]
    }
   ],
   "source": [
    "!pip install glove_python"
   ]
  },
  {
   "cell_type": "markdown",
   "metadata": {
    "colab_type": "text",
    "id": "G-V6YIkd7DFJ"
   },
   "source": [
    "### Тренировка"
   ]
  },
  {
   "cell_type": "code",
   "execution_count": 0,
   "metadata": {
    "colab": {},
    "colab_type": "code",
    "id": "hzfQijJA2Pc7"
   },
   "outputs": [],
   "source": [
    "from glove import Corpus, Glove"
   ]
  },
  {
   "cell_type": "markdown",
   "metadata": {
    "colab_type": "text",
    "id": "AOyEcBtu6W77"
   },
   "source": [
    "Это вспомогательная штука для представления наших данных в удобном для Glove-модели формате."
   ]
  },
  {
   "cell_type": "code",
   "execution_count": 0,
   "metadata": {
    "colab": {},
    "colab_type": "code",
    "id": "eNphT9T_2RN2"
   },
   "outputs": [],
   "source": [
    "corpus = Corpus()\n",
    "corpus.fit(sentences, window=10)"
   ]
  },
  {
   "cell_type": "markdown",
   "metadata": {
    "colab_type": "text",
    "id": "4n5wJiOT6ikz"
   },
   "source": [
    "Создаем модель, размерность пространства: 200, LR: 0.05, учим 10 эпох."
   ]
  },
  {
   "cell_type": "code",
   "execution_count": 0,
   "metadata": {
    "colab": {
     "base_uri": "https://localhost:8080/",
     "height": 204
    },
    "colab_type": "code",
    "id": "yZwZi42K2Suw",
    "outputId": "0a5e5ce1-fbc4-4d1f-b98a-eac9b1b86bb8"
   },
   "outputs": [
    {
     "name": "stdout",
     "output_type": "stream",
     "text": [
      "Performing 10 training epochs with 4 threads\n",
      "Epoch 0\n",
      "Epoch 1\n",
      "Epoch 2\n",
      "Epoch 3\n",
      "Epoch 4\n",
      "Epoch 5\n",
      "Epoch 6\n",
      "Epoch 7\n",
      "Epoch 8\n",
      "Epoch 9\n"
     ]
    }
   ],
   "source": [
    "glove_model = Glove(no_components=200, learning_rate=0.05)\n",
    "glove_model.fit(corpus.matrix, epochs=10, no_threads=4, verbose=True)\n",
    "glove_model.add_dictionary(corpus.dictionary)"
   ]
  },
  {
   "cell_type": "markdown",
   "metadata": {
    "colab_type": "text",
    "id": "hmWzUgOF6tVA"
   },
   "source": [
    "Чуть подкорректированная под обстоятелсьтва функция обобщения документов по векторам слов."
   ]
  },
  {
   "cell_type": "code",
   "execution_count": 0,
   "metadata": {
    "colab": {},
    "colab_type": "code",
    "id": "R-nLwPIT2c3_"
   },
   "outputs": [],
   "source": [
    "def word_averaging(wv, words):\n",
    "    all_words, mean = set(), []\n",
    "    \n",
    "    for word in words:\n",
    "        if isinstance(word, np.ndarray):\n",
    "            mean.append(word)\n",
    "        elif word in wv.dictionary:\n",
    "            mean.append(wv.word_vectors[wv.dictionary[word]])\n",
    "            # all_words.add(wv.vocab[word].index)\n",
    "\n",
    "    if not mean:\n",
    "        # logging.warning(\"cannot compute similarity with no input %s\", words)\n",
    "        # FIXME: remove these examples in pre-processing\n",
    "        return np.zeros(wv.word_vectors.shape[1])\n",
    "\n",
    "    mean = gensim.matutils.unitvec(np.array(mean).mean(axis=0)).astype(np.float32)\n",
    "    return mean\n",
    "\n",
    "def  word_averaging_list(wv, text_list):\n",
    "    return np.vstack([word_averaging(wv, post) for post in text_list ])"
   ]
  },
  {
   "cell_type": "markdown",
   "metadata": {
    "colab_type": "text",
    "id": "CI-wZKj5657E"
   },
   "source": [
    "Получили векторную информацию о документах."
   ]
  },
  {
   "cell_type": "code",
   "execution_count": 0,
   "metadata": {
    "colab": {},
    "colab_type": "code",
    "id": "rBEXYf7d2evr"
   },
   "outputs": [],
   "source": [
    "glove_data = word_averaging_list(glove_model, processed_data)"
   ]
  },
  {
   "cell_type": "markdown",
   "metadata": {
    "colab_type": "text",
    "id": "tFGweFrY7AfM"
   },
   "source": [
    "Убедились, что всё в порядке."
   ]
  },
  {
   "cell_type": "code",
   "execution_count": 0,
   "metadata": {
    "colab": {
     "base_uri": "https://localhost:8080/",
     "height": 34
    },
    "colab_type": "code",
    "id": "ga1C7M0C2g9-",
    "outputId": "581929f3-5f06-435a-8928-f25458bf969b"
   },
   "outputs": [
    {
     "data": {
      "text/plain": [
       "(1692, 200)"
      ]
     },
     "execution_count": 154,
     "metadata": {
      "tags": []
     },
     "output_type": "execute_result"
    }
   ],
   "source": [
    "glove_data.shape"
   ]
  },
  {
   "cell_type": "markdown",
   "metadata": {
    "colab_type": "text",
    "id": "13z_ItH47IRb"
   },
   "source": [
    "### Классификация"
   ]
  },
  {
   "cell_type": "markdown",
   "metadata": {
    "colab_type": "text",
    "id": "I1gcGAHM7Gb3"
   },
   "source": [
    "Собрали трейн и тест из Glove-матрицы."
   ]
  },
  {
   "cell_type": "code",
   "execution_count": 0,
   "metadata": {
    "colab": {},
    "colab_type": "code",
    "id": "plN46NXL2i5T"
   },
   "outputs": [],
   "source": [
    "x_train, x_test, y_train, y_test = train_test_split(glove_data, y, test_size=0.2, random_state=42)"
   ]
  },
  {
   "cell_type": "markdown",
   "metadata": {
    "colab_type": "text",
    "id": "gYulgxom94pt"
   },
   "source": [
    "Сравнивая с Word2Vec, Glove немного лучше (на 4%), но в целом практика показала, что обучение только на собственном датасете и там и там весьма не убедительное."
   ]
  },
  {
   "cell_type": "code",
   "execution_count": 0,
   "metadata": {
    "colab": {
     "base_uri": "https://localhost:8080/",
     "height": 51
    },
    "colab_type": "code",
    "id": "wFlWQdgl2lgD",
    "outputId": "b5e8964b-2b53-4bd1-f2c0-4deab709c73b"
   },
   "outputs": [
    {
     "name": "stdout",
     "output_type": "stream",
     "text": [
      "F1-SCORE  0.41975730445416004\n",
      "ACCURACY  0.49852507374631266\n"
     ]
    }
   ],
   "source": [
    "model = LogisticRegression().fit(x_train, y_train)\n",
    "regression_y = model.predict(x_test)\n",
    "\n",
    "print(\"F1-SCORE \", f1_score(y_test, regression_y, average='weighted')) \n",
    "print(\"ACCURACY \", accuracy_score(y_test, regression_y))"
   ]
  },
  {
   "cell_type": "markdown",
   "metadata": {
    "colab_type": "text",
    "id": "GV5mRlem_uil"
   },
   "source": [
    "Случайный лес поднял точность, но не дотянул и до Word2Vec."
   ]
  },
  {
   "cell_type": "code",
   "execution_count": 0,
   "metadata": {
    "colab": {
     "base_uri": "https://localhost:8080/",
     "height": 51
    },
    "colab_type": "code",
    "id": "leJZ2eTa2nUU",
    "outputId": "7fd774bf-2237-4e74-d46c-7240a8516240"
   },
   "outputs": [
    {
     "name": "stdout",
     "output_type": "stream",
     "text": [
      "F1-SCORE  0.5803602024038264\n",
      "ACCURACY  0.5899705014749262\n"
     ]
    }
   ],
   "source": [
    "model = RandomForestClassifier(n_estimators=500).fit(x_train, y_train)\n",
    "regression_y = model.predict(x_test) \n",
    "\n",
    "print(\"F1-SCORE \", f1_score(y_test, regression_y, average='weighted')) \n",
    "print(\"ACCURACY \", accuracy_score(y_test, regression_y))"
   ]
  },
  {
   "cell_type": "markdown",
   "metadata": {
    "colab_type": "text",
    "id": "6g5WgyL1_68U"
   },
   "source": [
    "Глядя на матрицу, складывается впечатление, что алгоритм заучился на пару-тройку категорий, которые ему лучше всего понятны, и устремился в них ради уменьшения функции ошибки. Здесь \"пара-тройка\" категорий несёт отрицательный сентемент, так как всего категорий 8."
   ]
  },
  {
   "cell_type": "code",
   "execution_count": 0,
   "metadata": {
    "colab": {
     "base_uri": "https://localhost:8080/",
     "height": 1000
    },
    "colab_type": "code",
    "id": "EhLMcC-82ou7",
    "outputId": "b8e0b9df-eeff-46df-da0a-794eddfdf52c"
   },
   "outputs": [
    {
     "data": {
      "image/png": "[encoded data removed]",
      "text/plain": [
       "<Figure size 1080x1080 with 2 Axes>"
      ]
     },
     "metadata": {
      "tags": []
     },
     "output_type": "display_data"
    }
   ],
   "source": [
    "cmt_gbt = confusion_matrix(y_test, regression_y)\n",
    "plot_confusion_matrix(cmt_gbt, title='Confusion Matrix, Random Forest')"
   ]
  },
  {
   "cell_type": "markdown",
   "metadata": {
    "colab_type": "text",
    "id": "z6Td9EJo1oU1"
   },
   "source": [
    "## Pre-trained Glove"
   ]
  },
  {
   "cell_type": "markdown",
   "metadata": {
    "colab_type": "text",
    "id": "P-FeR-EDAal9"
   },
   "source": [
    "Как и в случае с Word2Vec, стоит понадеяться на хорошие результаты с предобученной моделью Glove."
   ]
  },
  {
   "cell_type": "markdown",
   "metadata": {
    "colab_type": "text",
    "id": "1oxcf3Ua7P9Z"
   },
   "source": [
    "### Загрузка модели"
   ]
  },
  {
   "cell_type": "markdown",
   "metadata": {
    "colab_type": "text",
    "id": "0FbfTzfgAj1B"
   },
   "source": [
    "Предобученных моделей для Glove много, они различаются размерностями и размерами, мы берём относительно компактную версию."
   ]
  },
  {
   "cell_type": "code",
   "execution_count": 0,
   "metadata": {
    "colab": {},
    "colab_type": "code",
    "id": "W0wqXZXt1piI"
   },
   "outputs": [],
   "source": [
    "glove_vecSize = 200\n",
    "!cp drive/'My Drive'/Lab5_data/'glove.6B.200d.txt' ."
   ]
  },
  {
   "cell_type": "markdown",
   "metadata": {
    "colab_type": "text",
    "id": "4GmbqV97Azv0"
   },
   "source": [
    "У Glove отличный от других моделей формат хранения данных, поэтому под него пришлось отдельно подстраиваться."
   ]
  },
  {
   "cell_type": "code",
   "execution_count": 0,
   "metadata": {
    "colab": {},
    "colab_type": "code",
    "id": "JZeecUqP1sHh"
   },
   "outputs": [],
   "source": [
    "embeddings_dict = {}\n",
    "with open(\"glove.6B.\"+str(glove_vecSize)+\"d.txt\", 'r') as f:\n",
    "    for line in f:\n",
    "        values = line.split()\n",
    "        word = values[0]\n",
    "        vector = np.asarray(values[1:], \"float32\")\n",
    "        embeddings_dict[word] = vector"
   ]
  },
  {
   "cell_type": "markdown",
   "metadata": {
    "colab_type": "text",
    "id": "spI7U652BFY6"
   },
   "source": [
    "Еще одна адаптация уже реализованных ранее функций."
   ]
  },
  {
   "cell_type": "code",
   "execution_count": 0,
   "metadata": {
    "colab": {},
    "colab_type": "code",
    "id": "eWIHMn1E10KB"
   },
   "outputs": [],
   "source": [
    "def word_averaging_glove(glove, words):\n",
    "        mean = [np.zeros(glove_vecSize)]\n",
    "        for word in words:\n",
    "            if word in glove:\n",
    "                mean.append(glove[word])\n",
    "        return np.mean(mean, axis=0).astype(np.float32)\n",
    "        \n",
    "def  word_averaging_list_glove(wv, text_list):\n",
    "    return np.vstack([word_averaging_glove(wv, post) for post in text_list ])"
   ]
  },
  {
   "cell_type": "markdown",
   "metadata": {
    "colab_type": "text",
    "id": "531nmNFSBKx-"
   },
   "source": [
    "Сабираем данные по документам через новую модель."
   ]
  },
  {
   "cell_type": "code",
   "execution_count": 0,
   "metadata": {
    "colab": {},
    "colab_type": "code",
    "id": "0Yk24ePS12bX"
   },
   "outputs": [],
   "source": [
    "glove_data = word_averaging_list_glove(embeddings_dict, processed_data)"
   ]
  },
  {
   "cell_type": "markdown",
   "metadata": {
    "colab_type": "text",
    "id": "peR68CPLBVw-"
   },
   "source": [
    "Размер корректен."
   ]
  },
  {
   "cell_type": "code",
   "execution_count": 0,
   "metadata": {
    "colab": {
     "base_uri": "https://localhost:8080/",
     "height": 34
    },
    "colab_type": "code",
    "id": "xvVLFnDA15n6",
    "outputId": "2f0f76b5-3541-4130-cb93-a01f349aad07"
   },
   "outputs": [
    {
     "name": "stdout",
     "output_type": "stream",
     "text": [
      "(1692, 200)\n"
     ]
    }
   ],
   "source": [
    "print(glove_data.shape)"
   ]
  },
  {
   "cell_type": "markdown",
   "metadata": {
    "colab_type": "text",
    "id": "QoNtydzY7Vzf"
   },
   "source": [
    "### Классификация"
   ]
  },
  {
   "cell_type": "markdown",
   "metadata": {
    "colab_type": "text",
    "id": "wbqItxxPBbD-"
   },
   "source": [
    "Сплитим."
   ]
  },
  {
   "cell_type": "code",
   "execution_count": 0,
   "metadata": {
    "colab": {},
    "colab_type": "code",
    "id": "UFle1HyB17G8"
   },
   "outputs": [],
   "source": [
    "x_train, x_test, y_train, y_test = train_test_split(glove_data, y, test_size=0.2, random_state=42)"
   ]
  },
  {
   "cell_type": "markdown",
   "metadata": {
    "colab_type": "text",
    "id": "BPHkcuHeBdPB"
   },
   "source": [
    "Случайный лес. Результат неплох, но и не хорош."
   ]
  },
  {
   "cell_type": "code",
   "execution_count": 0,
   "metadata": {
    "colab": {
     "base_uri": "https://localhost:8080/",
     "height": 51
    },
    "colab_type": "code",
    "id": "W5YzdnG_18o2",
    "outputId": "9a0a8e0f-22fb-4ac5-d137-f3a1bdbaf4d6"
   },
   "outputs": [
    {
     "name": "stdout",
     "output_type": "stream",
     "text": [
      "F1-SCORE  0.7669599754985197\n",
      "ACCURACY  0.7669616519174042\n"
     ]
    }
   ],
   "source": [
    "model = RandomForestClassifier(n_estimators=500).fit(x_train, y_train)\n",
    "regression_y = model.predict(x_test) \n",
    "\n",
    "print(\"F1-SCORE \", f1_score(y_test, regression_y, average='weighted')) \n",
    "print(\"ACCURACY \", accuracy_score(y_test, regression_y))"
   ]
  },
  {
   "cell_type": "markdown",
   "metadata": {
    "colab_type": "text",
    "id": "phiN1iRpBotX"
   },
   "source": [
    "Логистическая регрессия. Результат хорош, но бывало и лучше."
   ]
  },
  {
   "cell_type": "code",
   "execution_count": 0,
   "metadata": {
    "colab": {
     "base_uri": "https://localhost:8080/",
     "height": 51
    },
    "colab_type": "code",
    "id": "QUtyUIOW1-qi",
    "outputId": "caec7b09-7206-4d8d-9ecc-abeec5c3f776"
   },
   "outputs": [
    {
     "name": "stdout",
     "output_type": "stream",
     "text": [
      "F1-SCORE  0.8174190314160625\n",
      "ACCURACY  0.8200589970501475\n"
     ]
    }
   ],
   "source": [
    "model = LogisticRegression().fit(x_train, y_train)\n",
    "regression_y = model.predict(x_test)\n",
    "\n",
    "print(\"F1-SCORE \", f1_score(y_test, regression_y, average='weighted')) \n",
    "print(\"ACCURACY \", accuracy_score(y_test, regression_y))"
   ]
  },
  {
   "cell_type": "markdown",
   "metadata": {
    "colab_type": "text",
    "id": "jNHu1oiLB0Qb"
   },
   "source": [
    "Ошибки в классификации не сильно отличаются от предыдущих случаев, полагаю, нет смысла что-либо здесь обсуждать."
   ]
  },
  {
   "cell_type": "code",
   "execution_count": 0,
   "metadata": {
    "colab": {
     "base_uri": "https://localhost:8080/",
     "height": 1000
    },
    "colab_type": "code",
    "id": "2ZgHyUEL2Alv",
    "outputId": "00ef2cc9-081d-499d-d13d-fa0fb80201ff"
   },
   "outputs": [
    {
     "data": {
      "image/png": "[encoded data removed]",
      "text/plain": [
       "<Figure size 1080x1080 with 2 Axes>"
      ]
     },
     "metadata": {
      "tags": []
     },
     "output_type": "display_data"
    }
   ],
   "source": [
    "cmt_gbt = confusion_matrix(y_test, regression_y)\n",
    "plot_confusion_matrix(cmt_gbt, title='Confusion Matrix, Logistic Regression')"
   ]
  },
  {
   "cell_type": "markdown",
   "metadata": {
    "colab_type": "text",
    "id": "uInnln-tCKtK"
   },
   "source": [
    "## FastText (нет)"
   ]
  },
  {
   "cell_type": "markdown",
   "metadata": {
    "colab_type": "text",
    "id": "t6ZFmcu-CS4Z"
   },
   "source": [
    "Мы честно пытались припилить сюда еще и FastText, но библиотека и инструменты работы с ней оказались крайне недружелюбными, имхо. Первым делом смутил формат ввода данных: указать путь к текстовому файлу, внутри которого построчно размеченны категории с помощью мета-тегов \"_label_myCategoryExample\" и всё, иначе данные никак не залить. Окей, с горем пополам форматировали наш датасет под эту ересь и записали всё в тектовый файл. Потом оказалось, что тестирование модели происходит тем же способом, то есть для трейна и теста надо иметь два разных текстовых файла. Захотели поменять соотношение трейн\\тест с 80%-20% на 70%-30% - пересобирайте текстовые файлы. Потом выяснилось, что часть функций библиотеки не безопасны и способны не выдавать лог об ошибке, а просто крашиться, крашить сеанс работы в коллабе и перезапускать коллаб-машину с потерей всей загруженной в RAM информации, то есть придётся потом еще все блоки кода перепрогонять. Даже это, окей, осилили, но видимо не совсем корректно, потому что итоговая точность на нашем датасете - 30%. На этой ноте идея с FastText была дропнута. Прошу прощения за лонгрид."
   ]
  },
  {
   "cell_type": "markdown",
   "metadata": {
    "colab_type": "text",
    "id": "KK27Vw7t2vf0"
   },
   "source": [
    "## Попытка улучшить результаты"
   ]
  },
  {
   "cell_type": "markdown",
   "metadata": {
    "colab_type": "text",
    "id": "JdORTIhoFPtJ"
   },
   "source": [
    "Всё, остались только попытки прокнуть лучшую точность. Собираем большую функцию, вмещающую в себя все интересующие и даже не интересующие нас гиперпараметры, которая будет строить Doc2Vec модель и классифицировать документы через случайный лес и полный комплект вариаций solver'ов логистической регрессии."
   ]
  },
  {
   "cell_type": "code",
   "execution_count": 0,
   "metadata": {
    "colab": {},
    "colab_type": "code",
    "id": "Z3ReixZx24Bj"
   },
   "outputs": [],
   "source": [
    "import multiprocessing\n",
    "\n",
    "cpu_count = multiprocessing.cpu_count()\n",
    "\n",
    "def f(nsize, window_size, hs, negatives, n_epochs, rf_estimators, lr, lrd): # lrd - learning rate decrease\n",
    "    model_dbow = Doc2Vec(dm=0, vector_size=nsize, negative=negatives, hs=hs, min_count=2, sample = 0, workers=cpu_count)\n",
    "    model_dbow.build_vocab([x for x in tqdm(train_tagged)])\n",
    "\n",
    "    model_dbow.alpha = lr\n",
    "    for epoch in range(n_epochs):\n",
    "        model_dbow.train(utils.shuffle([x for x in tqdm(train_tagged)]), total_examples=len(train_tagged), epochs=1)\n",
    "        model_dbow.alpha -= lrd\n",
    "        model_dbow.min_alpha = model_dbow.alpha\n",
    "\n",
    "    y_train, x_train = vec_for_learning(model_dbow, train_tagged)\n",
    "    y_test, x_test = vec_for_learning(model_dbow, test_tagged)\n",
    "\n",
    "    solvers = ['liblinear', 'newton-cg', 'sag', 'saga', 'lbfgs']\n",
    "    accuracies = []\n",
    "    logist_reg_pred = []\n",
    "    best = 0\n",
    "    best_solver = 0\n",
    "    for i in solvers:\n",
    "        if(i == 'liblinear'):\n",
    "            model = LogisticRegression(solver=i, penalty=\"l2\").fit(x_train, y_train)\n",
    "        else:\n",
    "            model = LogisticRegression(solver=i).fit(x_train, y_train)\n",
    "        regression_y = model.predict(x_test)\n",
    "        acc = accuracy_score(y_test, regression_y)\n",
    "        accuracies.append(acc)\n",
    "        # print('Solver ', i, 'Accuracy', acc)\n",
    "        if(best < acc):\n",
    "            best = acc\n",
    "            best_solver = i\n",
    "            logist_reg_pred = regression_y\n",
    "    # print(\"BEST SCORE\", best)\n",
    "\n",
    "    model = RandomForestClassifier(n_estimators=rf_estimators).fit(x_train, y_train)\n",
    "    regression_y = model.predict(x_test) \n",
    "    acc = accuracy_score(y_test, regression_y)\n",
    "    if(best < acc):\n",
    "        best = acc\n",
    "        best_solver = 'RandomForest'\n",
    "        logist_reg_pred = regression_y\n",
    "\n",
    "    print('Solver=', best_solver, ' F1 Score=', f1_score(y_test, logist_reg_pred, average='weighted'), ' Accuracy',best)\n",
    "    return best, logist_reg_pred"
   ]
  },
  {
   "cell_type": "markdown",
   "metadata": {
    "colab_type": "text",
    "id": "WcZDDdvhGRZB"
   },
   "source": [
    "Восстанавливаем то, что было лучшим в процессе имплементации моделей. 84%. Локальный рекорд."
   ]
  },
  {
   "cell_type": "code",
   "execution_count": 0,
   "metadata": {
    "colab": {
     "base_uri": "https://localhost:8080/",
     "height": 221
    },
    "colab_type": "code",
    "id": "X8PHmlGz29au",
    "outputId": "f5d8ee2f-04f0-4ca6-e1c4-5c8e4b9cfa79"
   },
   "outputs": [
    {
     "name": "stderr",
     "output_type": "stream",
     "text": [
      "100%|██████████| 1353/1353 [00:00<00:00, 959244.98it/s]\n",
      "100%|██████████| 1353/1353 [00:00<00:00, 490186.86it/s]\n",
      "100%|██████████| 1353/1353 [00:00<00:00, 1403634.26it/s]\n",
      "100%|██████████| 1353/1353 [00:00<00:00, 1822380.64it/s]\n",
      "100%|██████████| 1353/1353 [00:00<00:00, 1729096.07it/s]\n",
      "100%|██████████| 1353/1353 [00:00<00:00, 551335.21it/s]\n",
      "100%|██████████| 1353/1353 [00:00<00:00, 483216.39it/s]\n",
      "100%|██████████| 1353/1353 [00:00<00:00, 625401.51it/s]\n",
      "100%|██████████| 1353/1353 [00:00<00:00, 1324053.50it/s]\n",
      "100%|██████████| 1353/1353 [00:00<00:00, 1821210.95it/s]\n",
      "100%|██████████| 1353/1353 [00:00<00:00, 1391246.22it/s]\n"
     ]
    },
    {
     "name": "stdout",
     "output_type": "stream",
     "text": [
      "Solver= RandomForest  F1 Score= 0.8416373020838165  Accuracy 0.8407079646017699\n"
     ]
    }
   ],
   "source": [
    "acc, reg_y = f(nsize=200, window_size=5, hs=0, negatives=5, n_epochs=10, rf_estimators=500, lr=0.011, lrd=0.001)"
   ]
  },
  {
   "cell_type": "markdown",
   "metadata": {
    "colab_type": "text",
    "id": "nnhCs_XMGiR9"
   },
   "source": [
    "Смотрим, что будет, если увеличить размерность пространства. Стало лучше на 0.3%. Stonks."
   ]
  },
  {
   "cell_type": "code",
   "execution_count": 0,
   "metadata": {
    "colab": {
     "base_uri": "https://localhost:8080/",
     "height": 221
    },
    "colab_type": "code",
    "id": "XMxZLLBL3juW",
    "outputId": "3bd23bdf-97c2-409a-87fe-1a7f197de8ce"
   },
   "outputs": [
    {
     "name": "stderr",
     "output_type": "stream",
     "text": [
      "100%|██████████| 1353/1353 [00:00<00:00, 1276978.69it/s]\n",
      "100%|██████████| 1353/1353 [00:00<00:00, 1468657.69it/s]\n",
      "100%|██████████| 1353/1353 [00:00<00:00, 1363829.20it/s]\n",
      "100%|██████████| 1353/1353 [00:00<00:00, 1370416.16it/s]\n",
      "100%|██████████| 1353/1353 [00:00<00:00, 1608529.85it/s]\n",
      "100%|██████████| 1353/1353 [00:00<00:00, 1441792.00it/s]\n",
      "100%|██████████| 1353/1353 [00:00<00:00, 407825.61it/s]\n",
      "100%|██████████| 1353/1353 [00:00<00:00, 1439962.78it/s]\n",
      "100%|██████████| 1353/1353 [00:00<00:00, 1398101.33it/s]\n",
      "100%|██████████| 1353/1353 [00:00<00:00, 787741.99it/s]\n",
      "100%|██████████| 1353/1353 [00:00<00:00, 1705196.31it/s]\n"
     ]
    },
    {
     "name": "stdout",
     "output_type": "stream",
     "text": [
      "Solver= RandomForest  F1 Score= 0.8442206840815919  Accuracy 0.8436578171091446\n"
     ]
    }
   ],
   "source": [
    "acc, reg_y = f(nsize=300, window_size=5, hs=0, negatives=5, n_epochs=10, rf_estimators=500, lr=0.011, lrd=0.001)"
   ]
  },
  {
   "cell_type": "markdown",
   "metadata": {
    "colab_type": "text",
    "id": "I7Ghd-ppGy1N"
   },
   "source": [
    "В предположении, что больше - лучше, получаем ситуацию, когда такое предположение неверно."
   ]
  },
  {
   "cell_type": "code",
   "execution_count": 0,
   "metadata": {
    "colab": {
     "base_uri": "https://localhost:8080/",
     "height": 221
    },
    "colab_type": "code",
    "id": "7TWgcnJV499E",
    "outputId": "b688ce05-542b-4aec-a306-f832046aada6"
   },
   "outputs": [
    {
     "name": "stderr",
     "output_type": "stream",
     "text": [
      "100%|██████████| 1353/1353 [00:00<00:00, 565791.96it/s]\n",
      "100%|██████████| 1353/1353 [00:00<00:00, 1568950.32it/s]\n",
      "100%|██████████| 1353/1353 [00:00<00:00, 287118.31it/s]\n",
      "100%|██████████| 1353/1353 [00:00<00:00, 948186.02it/s]\n",
      "100%|██████████| 1353/1353 [00:00<00:00, 1330260.97it/s]\n",
      "100%|██████████| 1353/1353 [00:00<00:00, 1290335.00it/s]\n",
      "100%|██████████| 1353/1353 [00:00<00:00, 2084824.88it/s]\n",
      "100%|██████████| 1353/1353 [00:00<00:00, 1450637.35it/s]\n",
      "100%|██████████| 1353/1353 [00:00<00:00, 1441059.75it/s]\n",
      "100%|██████████| 1353/1353 [00:00<00:00, 1889112.29it/s]\n",
      "100%|██████████| 1353/1353 [00:00<00:00, 404857.91it/s]\n"
     ]
    },
    {
     "name": "stdout",
     "output_type": "stream",
     "text": [
      "Solver= RandomForest  F1 Score= 0.8239600769347829  Accuracy 0.8230088495575221\n"
     ]
    }
   ],
   "source": [
    "acc, reg_y = f(nsize=400, window_size=5, hs=0, negatives=5, n_epochs=10, rf_estimators=500, lr=0.011, lrd=0.001)"
   ]
  },
  {
   "cell_type": "markdown",
   "metadata": {
    "colab_type": "text",
    "id": "4psq6uJqHJQq"
   },
   "source": [
    "Еще можно предположить, что если увеличить окно для Doc2Vec, то семантика слов начнёт высчитываться лучше и вообще жить станет приятнее, но это тоже не так."
   ]
  },
  {
   "cell_type": "code",
   "execution_count": 0,
   "metadata": {
    "colab": {
     "base_uri": "https://localhost:8080/",
     "height": 221
    },
    "colab_type": "code",
    "id": "Pa9akOEl5AXB",
    "outputId": "09ef7cb7-2298-4330-ea88-a004497b68ef"
   },
   "outputs": [
    {
     "name": "stderr",
     "output_type": "stream",
     "text": [
      "100%|██████████| 1353/1353 [00:00<00:00, 508093.23it/s]\n",
      "100%|██████████| 1353/1353 [00:00<00:00, 502469.75it/s]\n",
      "100%|██████████| 1353/1353 [00:00<00:00, 659334.65it/s]\n",
      "100%|██████████| 1353/1353 [00:00<00:00, 1463355.68it/s]\n",
      "100%|██████████| 1353/1353 [00:00<00:00, 1432330.47it/s]\n",
      "100%|██████████| 1353/1353 [00:00<00:00, 1679459.40it/s]\n",
      "100%|██████████| 1353/1353 [00:00<00:00, 1469037.88it/s]\n",
      "100%|██████████| 1353/1353 [00:00<00:00, 405118.03it/s]\n",
      "100%|██████████| 1353/1353 [00:00<00:00, 1420143.47it/s]\n",
      "100%|██████████| 1353/1353 [00:00<00:00, 1439962.78it/s]\n",
      "100%|██████████| 1353/1353 [00:00<00:00, 955208.43it/s]\n"
     ]
    },
    {
     "name": "stdout",
     "output_type": "stream",
     "text": [
      "Solver= RandomForest  F1 Score= 0.8414383701585647  Accuracy 0.8407079646017699\n"
     ]
    }
   ],
   "source": [
    "acc, reg_y = f(nsize=300, window_size=6, hs=0, negatives=5, n_epochs=10, rf_estimators=500, lr=0.011, lrd=0.001)"
   ]
  },
  {
   "cell_type": "markdown",
   "metadata": {
    "colab_type": "text",
    "id": "FaTZJ6AqHeKr"
   },
   "source": [
    "В итоге к нам пришло смирение с гипотезой о том, что ~84% - наш потолок либо по причине нашей некомпетентности в вопросе решения задачи классификации, либо же наш датасет был слишком грубо смёржен по категориям. В целом, мы попытались, это хороший опыт."
   ]
  },
  {
   "cell_type": "markdown",
   "metadata": {
    "colab_type": "text",
    "id": "xUMKf9CzITSe"
   },
   "source": [
    "# Часть 3. The END?"
   ]
  },
  {
   "cell_type": "markdown",
   "metadata": {
    "colab_type": "text",
    "id": "u__9AGGzMF00"
   },
   "source": [
    "Это была очень длинная, довольно тяжелая, но очень интересная лаба. Один список тем слева в коллабе чего стоит. Ух! А тебе это еще и проверять D:\n",
    "\n",
    "Но если ты дошел до сюда, то, видимо, уже закончил. Танцуем!  "
   ]
  },
  {
   "cell_type": "markdown",
   "metadata": {
    "colab_type": "text",
    "id": "j37XoyP5LQhJ"
   },
   "source": [
    "![](https://media.giphy.com/media/WVFKHDl0cm4BToZGyb/giphy.gif)"
   ]
  }
 ],
 "metadata": {
  "colab": {
   "collapsed_sections": [],
   "name": "Lab5.ipynb",
   "provenance": [],
   "toc_visible": true
  },
  "kernelspec": {
   "display_name": "Python 3",
   "language": "python",
   "name": "python3"
  },
  "language_info": {
   "codemirror_mode": {
    "name": "ipython",
    "version": 3
   },
   "file_extension": ".py",
   "mimetype": "text/x-python",
   "name": "python",
   "nbconvert_exporter": "python",
   "pygments_lexer": "ipython3",
   "version": "3.7.1"
  }
 },
 "nbformat": 4,
 "nbformat_minor": 1
}
