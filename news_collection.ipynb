{
 "cells": [
  {
   "cell_type": "markdown",
   "metadata": {},
   "source": [
    "# Лабораторная работа №1. Сбор новостного датасета\n",
    "## Выполнила: Залесская Галина, 16ПМИ"
   ]
  },
  {
   "cell_type": "code",
   "execution_count": 1,
   "metadata": {},
   "outputs": [],
   "source": [
    "import os\n",
    "import numpy as np\n",
    "import lxml\n",
    "from lxml import objectify, etree, html\n",
    "import json\n",
    "import urllib3\n",
    "from io import StringIO, BytesIO\n",
    "import newspaper\n",
    "from newspaper import Article\n",
    "import pandas as pd"
   ]
  },
  {
   "cell_type": "code",
   "execution_count": 2,
   "metadata": {},
   "outputs": [],
   "source": [
    "categories = [\"world\", \"health\", \"technology\", \"science_and_environment\", \"uk\", \n",
    "              \"business\", \"entertainment_and_arts\", \"sport\"]\n",
    "root_URL = 'https://www.bbc.com'"
   ]
  },
  {
   "cell_type": "code",
   "execution_count": 3,
   "metadata": {},
   "outputs": [],
   "source": [
    "import certifi\n",
    "def get_urls_from_page(URL):\n",
    "    http = urllib3.PoolManager(cert_reqs='CERT_REQUIRED', ca_certs=certifi.where())\n",
    "    r = http.request('GET', URL)\n",
    "    parser = etree.HTMLParser()\n",
    "    page = etree.parse(BytesIO(r.data), parser)\n",
    "    \n",
    "    article_links = []\n",
    "    #the main article\n",
    "    #Очень страшные и разные теги\n",
    "    article_links += (page.xpath(\".//div/a[@class = 'gs-c-promo-heading gs-o-faux-block-link__overlay-link gel-paragon-bold gs-u-mt+ nw-o-link-split__anchor']/@href\"))\n",
    "    article_links += (page.xpath(\".//div/a[@class = 'gs-c-promo-heading gs-o-faux-block-link__overlay-link gel-paragon-bold nw-o-link-split__anchor']/@href\"))\n",
    "    #extra articles\n",
    "    article_links += (page.xpath(\".//span/a[@class='gel-layout__item nw-o-link-split__anchor gs-u-pt- gs-u-pb- gs-u-display-block']/@href\"))\n",
    "    article_links += (page.xpath(\".//div/a[@class='gs-c-promo-heading gs-o-faux-block-link__overlay-link sp-o-link-split__anchor gel-double-pica-bold']/@href\"))\n",
    "    article_links += (page.xpath(\".//div/a[@class='gs-c-promo-heading gs-o-faux-block-link__overlay-link sp-o-link-split__anchor gel-pica-bold']/@href\"))\n",
    "    \n",
    "    article_links += (page.xpath(\".//span/a[@class='nw-o-link-split__anchor gs-u-pt- gs-u-pb- gs-u-display-block nw-o-link-split__text']/@href\"))\n",
    "    \n",
    "    article_links += page.xpath(\".//div/a[@class = 'gs-c-promo-heading gs-o-faux-block-link__overlay-link gel-pica-bold nw-o-link-split__anchor']/@href\")\n",
    "    article_links = [l for l in article_links if l.startswith('/')] #clean unrelated to news (articles, stories)\n",
    "    \n",
    "    print('from URL {} got {} articles'.format(URL, len(article_links)))\n",
    "    return article_links"
   ]
  },
  {
   "cell_type": "code",
   "execution_count": 4,
   "metadata": {},
   "outputs": [],
   "source": [
    "#мало статей на главной странице, поэтому приходится искать ссылки на уже взятых статьях\n",
    "def get_extra_urls_from_article_page(URL):\n",
    "    http = urllib3.PoolManager(cert_reqs='CERT_REQUIRED', ca_certs=certifi.where())\n",
    "    r = http.request('GET', URL)\n",
    "    parser = etree.HTMLParser()\n",
    "    page = etree.parse(BytesIO(r.data), parser)\n",
    "    \n",
    "    article_links = []\n",
    "    #the extra articles\n",
    "    article_links += (page.xpath(\".//a[@class='unit__link-wrapper']/@href\"))\n",
    "    article_links = [l for l in article_links if l.startswith('/')] #clean unrelated to news (articles, stories)\n",
    "    \n",
    "    if len(article_links) > 0:\n",
    "        print('from URL {} additionally got {} articles'.format(URL, len(article_links)))\n",
    "    return article_links"
   ]
  },
  {
   "cell_type": "code",
   "execution_count": 5,
   "metadata": {},
   "outputs": [],
   "source": [
    "def get_urls_from_main_page(root_URL):\n",
    "    articles_links = []\n",
    "    news = '/news'\n",
    "    for cat in [''] + categories:\n",
    "        if cat == \"sport\":\n",
    "            news = \"\"\n",
    "        URL = root_URL + news + '/' + cat\n",
    "        #cпортивные статьи начинаются с /sport, а все остальные с /news/category_name\n",
    "\n",
    "        cat_articles = get_urls_from_page(URL)\n",
    "        articles_links += cat_articles\n",
    "\n",
    "        if cat in [\"health\", \"world\", \"technology\", \"science_and_environment\", \"entertainment_and_arts\"]:\n",
    "            for article in cat_articles:\n",
    "                url = root_URL + article\n",
    "                articles_links += get_extra_urls_from_article_page(url)\n",
    "    return list(set(articles_links))"
   ]
  },
  {
   "cell_type": "code",
   "execution_count": 6,
   "metadata": {},
   "outputs": [
    {
     "name": "stdout",
     "output_type": "stream",
     "text": [
      "from URL https://www.bbc.com/news/ got 41 articles\n",
      "from URL https://www.bbc.com/news/world got 56 articles\n",
      "from URL https://www.bbc.com/news/world-asia-51689443 additionally got 6 articles\n",
      "from URL https://www.bbc.com/news/world-asia-51689443 additionally got 6 articles\n",
      "from URL https://www.bbc.com/news/world-asia-51689443 additionally got 6 articles\n",
      "from URL https://www.bbc.com/news/world-asia-49192495 additionally got 9 articles\n",
      "from URL https://www.bbc.com/news/world-asia-47733079 additionally got 9 articles\n",
      "from URL https://www.bbc.com/news/world-asia-49192495 additionally got 9 articles\n",
      "from URL https://www.bbc.com/news/world-asia-47733079 additionally got 9 articles\n",
      "from URL https://www.bbc.com/news/world-asia-49192495 additionally got 9 articles\n",
      "from URL https://www.bbc.com/news/world-asia-47733079 additionally got 9 articles\n",
      "from URL https://www.bbc.com/news/world-asia-49192495 additionally got 9 articles\n",
      "from URL https://www.bbc.com/news/world-asia-47733079 additionally got 9 articles\n",
      "from URL https://www.bbc.com/news/world-asia-49192495 additionally got 9 articles\n",
      "from URL https://www.bbc.com/news/world-asia-47733079 additionally got 9 articles\n",
      "from URL https://www.bbc.com/news/world-51685908 additionally got 2 articles\n",
      "from URL https://www.bbc.com/news/world-europe-51687160 additionally got 6 articles\n",
      "from URL https://www.bbc.com/news/world-europe-51684494 additionally got 7 articles\n",
      "from URL https://www.bbc.com/news/world-51685908 additionally got 2 articles\n",
      "from URL https://www.bbc.com/news/world-europe-51687160 additionally got 6 articles\n",
      "from URL https://www.bbc.com/news/world-europe-51684494 additionally got 7 articles\n",
      "from URL https://www.bbc.com/news/world-51685908 additionally got 2 articles\n",
      "from URL https://www.bbc.com/news/world-europe-51687160 additionally got 6 articles\n",
      "from URL https://www.bbc.com/news/world-europe-51684494 additionally got 7 articles\n",
      "from URL https://www.bbc.com/news/world-europe-51657803 additionally got 3 articles\n",
      "from URL https://www.bbc.com/news/world-us-canada-51653084 additionally got 5 articles\n",
      "from URL https://www.bbc.com/news/world-asia-51658141 additionally got 4 articles\n",
      "from URL https://www.bbc.com/news/world-africa-51689308 additionally got 1 articles\n",
      "from URL https://www.bbc.com/news/health-51674313 additionally got 2 articles\n",
      "from URL https://www.bbc.com/news/world-asia-india-51670096 additionally got 2 articles\n",
      "from URL https://www.bbc.com/news/world-europe-51672915 additionally got 1 articles\n",
      "from URL https://www.bbc.com/news/world-us-canada-51668258 additionally got 7 articles\n",
      "from URL https://www.bbc.com/news/world-europe-51657085 additionally got 1 articles\n",
      "from URL https://www.bbc.com/news/world-asia-51470599 additionally got 2 articles\n",
      "from URL https://www.bbc.com/news/health got 31 articles\n",
      "from URL https://www.bbc.com/news/uk-51683428 additionally got 3 articles\n",
      "from URL https://www.bbc.com/news/world-africa-51671834 additionally got 2 articles\n",
      "from URL https://www.bbc.com/news/health-51626946 additionally got 1 articles\n",
      "from URL https://www.bbc.com/news/health-51659831 additionally got 2 articles\n",
      "from URL https://www.bbc.com/news/explainers-51632801 additionally got 3 articles\n",
      "from URL https://www.bbc.com/news/uk-51683428 additionally got 3 articles\n",
      "from URL https://www.bbc.com/news/world-africa-51671834 additionally got 2 articles\n",
      "from URL https://www.bbc.com/news/health-51626946 additionally got 1 articles\n",
      "from URL https://www.bbc.com/news/health-51659831 additionally got 2 articles\n",
      "from URL https://www.bbc.com/news/explainers-51632801 additionally got 3 articles\n",
      "from URL https://www.bbc.com/news/uk-51683428 additionally got 3 articles\n",
      "from URL https://www.bbc.com/news/world-africa-51671834 additionally got 2 articles\n",
      "from URL https://www.bbc.com/news/health-51626946 additionally got 1 articles\n",
      "from URL https://www.bbc.com/news/health-51659831 additionally got 2 articles\n",
      "from URL https://www.bbc.com/news/explainers-51632801 additionally got 3 articles\n",
      "from URL https://www.bbc.com/news/world-asia-china-51176409 additionally got 3 articles\n",
      "from URL https://www.bbc.com/news/world-asia-china-51628693 additionally got 2 articles\n",
      "from URL https://www.bbc.com/news/health-51665497 additionally got 3 articles\n",
      "from URL https://www.bbc.com/news/health-51048366 additionally got 3 articles\n",
      "from URL https://www.bbc.com/news/technology got 45 articles\n",
      "from URL https://www.bbc.com/news/technology-51675183 additionally got 4 articles\n",
      "from URL https://www.bbc.com/news/technology-51675183 additionally got 4 articles\n",
      "from URL https://www.bbc.com/news/technology-51675183 additionally got 4 articles\n",
      "from URL https://www.bbc.com/news/uk-51673068 additionally got 5 articles\n",
      "from URL https://www.bbc.com/news/uk-51673068 additionally got 5 articles\n",
      "from URL https://www.bbc.com/news/uk-51673068 additionally got 5 articles\n",
      "from URL https://www.bbc.com/news/uk-51673068 additionally got 5 articles\n",
      "from URL https://www.bbc.com/news/uk-51673068 additionally got 5 articles\n",
      "from URL https://www.bbc.com/news/technology-51673293 additionally got 2 articles\n",
      "from URL https://www.bbc.com/news/technology-47668476 additionally got 3 articles\n",
      "from URL https://www.bbc.com/news/technology-51673298 additionally got 2 articles\n",
      "from URL https://www.bbc.com/news/technology-51658116 additionally got 2 articles\n",
      "from URL https://www.bbc.com/news/world-asia-china-51636621 additionally got 2 articles\n",
      "from URL https://www.bbc.com/news/technology-51673293 additionally got 2 articles\n",
      "from URL https://www.bbc.com/news/technology-47668476 additionally got 3 articles\n",
      "from URL https://www.bbc.com/news/technology-51673298 additionally got 2 articles\n",
      "from URL https://www.bbc.com/news/technology-51658116 additionally got 2 articles\n",
      "from URL https://www.bbc.com/news/world-asia-china-51636621 additionally got 2 articles\n",
      "from URL https://www.bbc.com/news/technology-51673293 additionally got 2 articles\n",
      "from URL https://www.bbc.com/news/technology-47668476 additionally got 3 articles\n",
      "from URL https://www.bbc.com/news/technology-51673298 additionally got 2 articles\n",
      "from URL https://www.bbc.com/news/technology-51658116 additionally got 2 articles\n",
      "from URL https://www.bbc.com/news/world-asia-china-51636621 additionally got 2 articles\n",
      "from URL https://www.bbc.com/news/technology-51658111 additionally got 1 articles\n",
      "from URL https://www.bbc.com/news/technology-51654274 additionally got 2 articles\n",
      "from URL https://www.bbc.com/news/technology-51658341 additionally got 5 articles\n",
      "from URL https://www.bbc.com/news/technology-51645566 additionally got 1 articles\n",
      "from URL https://www.bbc.com/news/technology-51646309 additionally got 2 articles\n",
      "from URL https://www.bbc.com/news/world-us-canada-51635241 additionally got 3 articles\n",
      "from URL https://www.bbc.com/news/science_and_environment got 36 articles\n",
      "from URL https://www.bbc.com/news/science-environment-51669384 additionally got 5 articles\n",
      "from URL https://www.bbc.com/news/uk-england-bristol-51663632 additionally got 4 articles\n",
      "from URL https://www.bbc.com/news/business-51665682 additionally got 3 articles\n",
      "from URL https://www.bbc.com/news/science-environment-51658601 additionally got 4 articles\n",
      "from URL https://www.bbc.com/news/business-51658693 additionally got 1 articles\n",
      "from URL https://www.bbc.com/news/world-asia-china-51658145 additionally got 3 articles\n",
      "from URL https://www.bbc.com/news/science-environment-51669384 additionally got 5 articles\n",
      "from URL https://www.bbc.com/news/uk-england-bristol-51663632 additionally got 4 articles\n",
      "from URL https://www.bbc.com/news/business-51665682 additionally got 3 articles\n",
      "from URL https://www.bbc.com/news/science-environment-51658601 additionally got 4 articles\n",
      "from URL https://www.bbc.com/news/business-51658693 additionally got 1 articles\n",
      "from URL https://www.bbc.com/news/world-asia-china-51658145 additionally got 3 articles\n",
      "from URL https://www.bbc.com/news/science-environment-51669384 additionally got 5 articles\n",
      "from URL https://www.bbc.com/news/uk-england-bristol-51663632 additionally got 4 articles\n",
      "from URL https://www.bbc.com/news/business-51665682 additionally got 3 articles\n",
      "from URL https://www.bbc.com/news/science-environment-51658601 additionally got 4 articles\n"
     ]
    },
    {
     "name": "stdout",
     "output_type": "stream",
     "text": [
      "from URL https://www.bbc.com/news/business-51658693 additionally got 1 articles\n",
      "from URL https://www.bbc.com/news/world-asia-china-51658145 additionally got 3 articles\n",
      "from URL https://www.bbc.com/news/science-environment-24021772 additionally got 9 articles\n",
      "from URL https://www.bbc.com/news/science-environment-51590080 additionally got 3 articles\n",
      "from URL https://www.bbc.com/news/world-europe-49918719 additionally got 4 articles\n",
      "from URL https://www.bbc.com/news/uk got 55 articles\n",
      "from URL https://www.bbc.com/news/business got 57 articles\n",
      "from URL https://www.bbc.com/news/entertainment_and_arts got 36 articles\n",
      "from URL https://www.bbc.com/news/world-europe-51684494 additionally got 7 articles\n",
      "from URL https://www.bbc.com/news/world-europe-51684494 additionally got 7 articles\n",
      "from URL https://www.bbc.com/news/world-europe-51684494 additionally got 7 articles\n",
      "from URL https://www.bbc.com/news/world-europe-51494929 additionally got 4 articles\n",
      "from URL https://www.bbc.com/news/world-europe-51494929 additionally got 4 articles\n",
      "from URL https://www.bbc.com/news/world-europe-51494929 additionally got 4 articles\n",
      "from URL https://www.bbc.com/news/world-europe-51494929 additionally got 4 articles\n",
      "from URL https://www.bbc.com/news/world-europe-51494929 additionally got 4 articles\n",
      "from URL https://www.bbc.com/news/entertainment-arts-51672753 additionally got 1 articles\n",
      "from URL https://www.bbc.com/news/uk-england-london-51671883 additionally got 5 articles\n",
      "from URL https://www.bbc.com/news/entertainment-arts-51675873 additionally got 4 articles\n",
      "from URL https://www.bbc.com/news/entertainment-arts-51642350 additionally got 4 articles\n",
      "from URL https://www.bbc.com/news/uk-england-london-51661931 additionally got 1 articles\n",
      "from URL https://www.bbc.com/news/uk-england-london-51656998 additionally got 2 articles\n",
      "from URL https://www.bbc.com/news/entertainment-arts-51672753 additionally got 1 articles\n",
      "from URL https://www.bbc.com/news/uk-england-london-51671883 additionally got 5 articles\n",
      "from URL https://www.bbc.com/news/entertainment-arts-51675873 additionally got 4 articles\n",
      "from URL https://www.bbc.com/news/entertainment-arts-51642350 additionally got 4 articles\n",
      "from URL https://www.bbc.com/news/uk-england-london-51661931 additionally got 1 articles\n",
      "from URL https://www.bbc.com/news/uk-england-london-51656998 additionally got 2 articles\n",
      "from URL https://www.bbc.com/news/entertainment-arts-51672753 additionally got 1 articles\n",
      "from URL https://www.bbc.com/news/uk-england-london-51671883 additionally got 5 articles\n",
      "from URL https://www.bbc.com/news/entertainment-arts-51675873 additionally got 4 articles\n",
      "from URL https://www.bbc.com/news/entertainment-arts-51642350 additionally got 4 articles\n",
      "from URL https://www.bbc.com/news/uk-england-london-51661931 additionally got 1 articles\n",
      "from URL https://www.bbc.com/news/uk-england-london-51656998 additionally got 2 articles\n",
      "from URL https://www.bbc.com/news/entertainment-arts-51657210 additionally got 5 articles\n",
      "from URL https://www.bbc.com/news/entertainment-arts-51643876 additionally got 2 articles\n",
      "from URL https://www.bbc.com/news/entertainment-arts-51224294 additionally got 2 articles\n",
      "from URL https://www.bbc.com/news/world-us-canada-51451977 additionally got 1 articles\n",
      "from URL https://www.bbc.com/news/uk-england-beds-bucks-herts-51578535 additionally got 4 articles\n",
      "from URL https://www.bbc.com/sport got 43 articles\n"
     ]
    }
   ],
   "source": [
    "articles_links = get_urls_from_main_page(root_URL)"
   ]
  },
  {
   "cell_type": "code",
   "execution_count": 7,
   "metadata": {},
   "outputs": [],
   "source": [
    "def set_category(articles): #берем категорию из названия ссылки, отбрасывая попавшие случайно\n",
    "    articles_with_category = []\n",
    "    for art in articles_links:\n",
    "        cat = None\n",
    "        if art.startswith('/sport'):\n",
    "            cat = \"sport\"\n",
    "        else:\n",
    "            for c in categories:\n",
    "                if art.startswith('/news/'+c):\n",
    "                    cat = c\n",
    "                    break\n",
    "        if cat:\n",
    "            articles_with_category.append([cat, art])\n",
    "    return articles_with_category\n"
   ]
  },
  {
   "cell_type": "code",
   "execution_count": 8,
   "metadata": {},
   "outputs": [
    {
     "name": "stdout",
     "output_type": "stream",
     "text": [
      "360  статей до вычленения нужных категорий\n",
      "277  после вычленения нужных категорий\n"
     ]
    }
   ],
   "source": [
    "print(str(len(articles_links)), ' статей до вычленения нужных категорий')\n",
    "articles_with_category = set_category(articles_links)\n",
    "print(str(len(articles_with_category)), ' после вычленения нужных категорий')\n",
    "#получаем 249 статей"
   ]
  },
  {
   "cell_type": "code",
   "execution_count": 9,
   "metadata": {},
   "outputs": [],
   "source": [
    "def parse_article(url):\n",
    "    article = Article(url)\n",
    "    article.download()\n",
    "    article.parse()\n",
    "    return article.title, article.text, list(article.tags) + get_tags(url)"
   ]
  },
  {
   "cell_type": "code",
   "execution_count": 10,
   "metadata": {},
   "outputs": [],
   "source": [
    "def get_tags(url): #стандартное тегирование работает плохо, поэтому улучшим его, подглядев в Related topics\n",
    "    http = urllib3.PoolManager(cert_reqs='CERT_REQUIRED', ca_certs=certifi.where())\n",
    "    r = http.request('GET', url)\n",
    "    parser = etree.HTMLParser()\n",
    "    page = etree.parse(BytesIO(r.data), parser)\n",
    "\n",
    "    return page.xpath(\".//ul/li[@class = 'tags-list__tags']/a/text()\")"
   ]
  },
  {
   "cell_type": "code",
   "execution_count": 11,
   "metadata": {},
   "outputs": [],
   "source": [
    "import xml.etree.ElementTree as xml\n",
    "\n",
    "def create_xml(news):\n",
    "\n",
    "  root = xml.Element(\"catalog\")\n",
    "\n",
    "  for [category_, url] in news:\n",
    "        \n",
    "    print('.', end = '')\n",
    "    title_, text_, tags_ = parse_article(root_URL + url)\n",
    "    if text_ == '':\n",
    "        print(\"Empty text\")\n",
    "        continue \n",
    "\n",
    "#     print(title, content, tags)\n",
    "    appt = xml.SubElement(root, \"news_id\")\n",
    "    appt.text = root_URL + url\n",
    "\n",
    "    category = xml.SubElement(appt, \"category\")\n",
    "    category.text = category_\n",
    "\n",
    "    title = xml.SubElement(appt, \"title\")\n",
    "    title.text = title_\n",
    "\n",
    "    text = xml.SubElement(appt, \"text\")\n",
    "    text.text = text_\n",
    "\n",
    "    tags = xml.SubElement(appt, \"tags\")\n",
    "    tags.text = ', '.join(tags_)\n",
    "\n",
    "  tree = xml.ElementTree(root)\n",
    "\n",
    "  with open(\"output2.xml\", \"wb\") as fh:\n",
    "      tree.write(fh)"
   ]
  },
  {
   "cell_type": "code",
   "execution_count": null,
   "metadata": {},
   "outputs": [
    {
     "name": "stdout",
     "output_type": "stream",
     "text": [
      "............................................................................................................................................................................................................................"
     ]
    }
   ],
   "source": [
    "create_xml(articles_with_category)"
   ]
  },
  {
   "cell_type": "code",
   "execution_count": null,
   "metadata": {},
   "outputs": [],
   "source": []
  }
 ],
 "metadata": {
  "kernelspec": {
   "display_name": "Python 3",
   "language": "python",
   "name": "python3"
  },
  "language_info": {
   "codemirror_mode": {
    "name": "ipython",
    "version": 3
   },
   "file_extension": ".py",
   "mimetype": "text/x-python",
   "name": "python",
   "nbconvert_exporter": "python",
   "pygments_lexer": "ipython3",
   "version": "3.7.1"
  }
 },
 "nbformat": 4,
 "nbformat_minor": 2
}
