{
 "cells": [
  {
   "cell_type": "markdown",
   "metadata": {},
   "source": [
    "# Лабораторная работа №3. Классификация текстов.\n",
    "## Выполнила: Залесская Галина, 16ПМИ "
   ]
  },
  {
   "cell_type": "code",
   "execution_count": 1,
   "metadata": {},
   "outputs": [],
   "source": [
    "import os\n",
    "import re\n",
    "import itertools\n",
    "import warnings\n",
    "import numpy as np\n",
    "import matplotlib.pyplot as plt\n",
    "from lxml import etree\n",
    "from collections import Counter\n",
    "\n",
    "from sklearn.feature_extraction.text import TfidfVectorizer\n",
    "from sklearn.model_selection import train_test_split \n",
    "from sklearn.linear_model import LogisticRegression\n",
    "from sklearn.naive_bayes import MultinomialNB\n",
    "from sklearn.ensemble import RandomForestClassifier, GradientBoostingClassifier, VotingClassifier, AdaBoostClassifier\n",
    "from sklearn.svm import LinearSVC, SVC\n",
    "from sklearn.neighbors import KNeighborsClassifier\n",
    "from sklearn.metrics import confusion_matrix, recall_score, precision_score, f1_score, roc_curve, roc_auc_score\n",
    "from sklearn.neural_network import MLPClassifier\n",
    "\n",
    "%matplotlib inline"
   ]
  },
  {
   "cell_type": "markdown",
   "metadata": {},
   "source": [
    "## Data preparation"
   ]
  },
  {
   "cell_type": "code",
   "execution_count": 2,
   "metadata": {},
   "outputs": [],
   "source": [
    "news_df = open('news.xml').read()"
   ]
  },
  {
   "cell_type": "code",
   "execution_count": 3,
   "metadata": {},
   "outputs": [],
   "source": [
    "root = etree.fromstring(news_df)\n",
    "catalog = []\n",
    "\n",
    "for element_lvl1 in root:\n",
    "    news = ['', '']\n",
    "    for element_lvl2 in element_lvl1:\n",
    "        if element_lvl2.tag == \"category\":\n",
    "            news[1] = element_lvl2.text\n",
    "        else:\n",
    "            if element_lvl2.text is not None:\n",
    "                news[0] += element_lvl2.text + '\\n'\n",
    "    news[0] = ' '.join(re.findall(r'[a-zA-Z\\n]+', news[0]))\n",
    "    catalog.append(news)"
   ]
  },
  {
   "cell_type": "code",
   "execution_count": 4,
   "metadata": {},
   "outputs": [],
   "source": [
    "def get_tfidf_representation(data_train):\n",
    "    vectorizer = TfidfVectorizer(stop_words='english', strip_accents='ascii')\n",
    "    tfidf_train = vectorizer.fit_transform(data_train)\n",
    "    tfidf_train = tfidf_train[np.arange(len(data_train))] \n",
    "    print(tfidf_train.shape)\n",
    "    return vectorizer, tfidf_train"
   ]
  },
  {
   "cell_type": "code",
   "execution_count": 5,
   "metadata": {},
   "outputs": [
    {
     "name": "stdout",
     "output_type": "stream",
     "text": [
      "(249, 13338)\n"
     ]
    }
   ],
   "source": [
    "from sklearn import preprocessing\n",
    "X = [x for [x, y] in catalog]\n",
    "y = [y for [x, y] in catalog]\n",
    "vectorizer, X = get_tfidf_representation(X)\n",
    "le = preprocessing.LabelEncoder()\n",
    "y = le.fit_transform(y)"
   ]
  },
  {
   "cell_type": "code",
   "execution_count": 6,
   "metadata": {},
   "outputs": [],
   "source": [
    "from sklearn.model_selection import train_test_split "
   ]
  },
  {
   "cell_type": "code",
   "execution_count": 7,
   "metadata": {},
   "outputs": [],
   "source": [
    "X_train, X_test, y_train, y_test = train_test_split(X, y, test_size=0.2, random_state=42)\n",
    "# Этот метод позволит разбить обучающую и тестовую выборку на одинаковые по соотношению классов части, \n",
    "# что улучшит качество классификации"
   ]
  },
  {
   "cell_type": "code",
   "execution_count": 8,
   "metadata": {},
   "outputs": [
    {
     "name": "stdout",
     "output_type": "stream",
     "text": [
      "Counter({5: 86, 4: 49, 2: 38, 3: 31, 0: 31, 1: 14})\n",
      "Counter({5: 21, 3: 8, 2: 8, 4: 8, 0: 3, 1: 2})\n"
     ]
    }
   ],
   "source": [
    "print(Counter(y)) #распределение по категориям в исходной выборке\n",
    "print(Counter(y_test)) #распределение по категориям в тестовой выборке"
   ]
  },
  {
   "cell_type": "markdown",
   "metadata": {},
   "source": [
    "# Models  Building"
   ]
  },
  {
   "cell_type": "markdown",
   "metadata": {},
   "source": [
    "1) **Logistic Regression**\n",
    "\n",
    "2) **Linear SVM**\n",
    "\n",
    "3) **SVM**\n",
    "\n",
    "4) **Random Forest**\n",
    "\n",
    "5) **Gradient Boosting Trees**\n",
    "\n",
    "6) **Naive Bayes**\n",
    "\n",
    "7) **Ada Boost**\n",
    "\n",
    "8) **kNN**\n",
    "\n",
    "9) **Perceptron**"
   ]
  },
  {
   "cell_type": "markdown",
   "metadata": {},
   "source": [
    "## Classifiers definition and training "
   ]
  },
  {
   "cell_type": "code",
   "execution_count": 9,
   "metadata": {},
   "outputs": [
    {
     "name": "stderr",
     "output_type": "stream",
     "text": [
      "/home/kotik/anaconda3/envs/nlp/lib/python3.6/site-packages/sklearn/linear_model/logistic.py:432: FutureWarning: Default solver will be changed to 'lbfgs' in 0.22. Specify a solver to silence this warning.\n",
      "  FutureWarning)\n",
      "/home/kotik/anaconda3/envs/nlp/lib/python3.6/site-packages/sklearn/linear_model/logistic.py:469: FutureWarning: Default multi_class will be changed to 'auto' in 0.22. Specify the multi_class option to silence this warning.\n",
      "  \"this warning.\", FutureWarning)\n"
     ]
    },
    {
     "name": "stdout",
     "output_type": "stream",
     "text": [
      "LR accuracy: 0.78%\n",
      "CPU times: user 140 ms, sys: 8.19 ms, total: 149 ms\n",
      "Wall time: 273 ms\n"
     ]
    }
   ],
   "source": [
    "%%time\n",
    "predictor_lr = LogisticRegression(C=2,dual=False).fit(X_train, y_train)\n",
    "y_pred_lr = predictor_lr.predict(X_test)\n",
    "print('LR accuracy: {}%'.format(round(np.mean(y_test == y_pred_lr), 2)))"
   ]
  },
  {
   "cell_type": "code",
   "execution_count": 10,
   "metadata": {},
   "outputs": [
    {
     "name": "stdout",
     "output_type": "stream",
     "text": [
      "LinearSVC accuracy: 0.92%\n",
      "CPU times: user 89.7 ms, sys: 0 ns, total: 89.7 ms\n",
      "Wall time: 44.8 ms\n"
     ]
    }
   ],
   "source": [
    "%%time\n",
    "predictor_svc = LinearSVC().fit(X_train, y_train)\n",
    "y_pred_svc = predictor_svc.predict(X_test)\n",
    "print('LinearSVC accuracy: {}%'.format(round(np.mean(y_test == y_pred_svc), 2)))"
   ]
  },
  {
   "cell_type": "code",
   "execution_count": 11,
   "metadata": {},
   "outputs": [
    {
     "name": "stdout",
     "output_type": "stream",
     "text": [
      "SVM accuracy: 0.42%\n",
      "CPU times: user 222 ms, sys: 0 ns, total: 222 ms\n",
      "Wall time: 212 ms\n"
     ]
    },
    {
     "name": "stderr",
     "output_type": "stream",
     "text": [
      "/home/kotik/anaconda3/envs/nlp/lib/python3.6/site-packages/sklearn/svm/base.py:193: FutureWarning: The default value of gamma will change from 'auto' to 'scale' in version 0.22 to account better for unscaled features. Set gamma explicitly to 'auto' or 'scale' to avoid this warning.\n",
      "  \"avoid this warning.\", FutureWarning)\n"
     ]
    }
   ],
   "source": [
    "%%time\n",
    "predictor_svm = SVC().fit(X_train, y_train)\n",
    "y_pred_svm = predictor_svm.predict(X_test)\n",
    "print('SVM accuracy: {}%'.format(round(np.mean(y_test == y_pred_svm), 2)))"
   ]
  },
  {
   "cell_type": "code",
   "execution_count": 12,
   "metadata": {},
   "outputs": [
    {
     "name": "stdout",
     "output_type": "stream",
     "text": [
      "RF accuracy: 0.72%\n",
      "CPU times: user 2.16 s, sys: 15 ms, total: 2.18 s\n",
      "Wall time: 2.19 s\n"
     ]
    }
   ],
   "source": [
    "%%time\n",
    "predictor_rf = RandomForestClassifier(n_estimators=500).fit(X_train, y_train)\n",
    "y_pred_rf = predictor_rf.predict(X_test)\n",
    "print('RF accuracy: {}%'.format(round(np.mean(y_test == y_pred_rf), 2)))"
   ]
  },
  {
   "cell_type": "code",
   "execution_count": 13,
   "metadata": {},
   "outputs": [
    {
     "name": "stdout",
     "output_type": "stream",
     "text": [
      "GBT accuracy: 0.72%\n",
      "CPU times: user 14.5 s, sys: 96 µs, total: 14.5 s\n",
      "Wall time: 14.5 s\n"
     ]
    }
   ],
   "source": [
    "%%time\n",
    "predictor_gbt = GradientBoostingClassifier(n_estimators=100).fit(X_train, y_train)\n",
    "y_pred_gbt = predictor_gbt.predict(X_test)\n",
    "print('GBT accuracy: {}%'.format(round(np.mean(y_test == y_pred_gbt), 2)))"
   ]
  },
  {
   "cell_type": "code",
   "execution_count": 14,
   "metadata": {},
   "outputs": [
    {
     "name": "stdout",
     "output_type": "stream",
     "text": [
      "NB accuracy: 0.56%\n",
      "CPU times: user 9.61 ms, sys: 3.95 ms, total: 13.6 ms\n",
      "Wall time: 9.79 ms\n"
     ]
    }
   ],
   "source": [
    "%%time\n",
    "predictor_nb = MultinomialNB().fit(X_train, y_train)\n",
    "y_pred_nb = predictor_nb.predict(X_test)\n",
    "print('NB accuracy: {}%'.format(round(np.mean(y_test == y_pred_nb), 2)))"
   ]
  },
  {
   "cell_type": "code",
   "execution_count": 15,
   "metadata": {},
   "outputs": [
    {
     "name": "stdout",
     "output_type": "stream",
     "text": [
      "ADA accuracy: 0.58%\n",
      "CPU times: user 1.55 s, sys: 15.7 ms, total: 1.57 s\n",
      "Wall time: 1.46 s\n"
     ]
    }
   ],
   "source": [
    "%%time\n",
    "predictor_ada = AdaBoostClassifier(n_estimators=100).fit(X_train, y_train)\n",
    "y_pred_ada = predictor_ada.predict(X_test)\n",
    "print('ADA accuracy: {}%'.format(round(np.mean(y_test == y_pred_ada), 2)))"
   ]
  },
  {
   "cell_type": "code",
   "execution_count": 16,
   "metadata": {},
   "outputs": [
    {
     "name": "stdout",
     "output_type": "stream",
     "text": [
      "KNN accuracy: 0.88%\n",
      "CPU times: user 15.2 ms, sys: 3.81 ms, total: 19 ms\n",
      "Wall time: 89.3 ms\n"
     ]
    }
   ],
   "source": [
    "%%time\n",
    "predictor_knn = KNeighborsClassifier(n_neighbors=3).fit(X_train, y_train)\n",
    "y_pred_knn = predictor_knn.predict(X_test)\n",
    "print('KNN accuracy: {}%'.format(round(np.mean(y_test == y_pred_knn), 2)))"
   ]
  },
  {
   "cell_type": "code",
   "execution_count": 17,
   "metadata": {},
   "outputs": [
    {
     "name": "stdout",
     "output_type": "stream",
     "text": [
      "NN accuracy: 0.88%\n",
      "CPU times: user 50.8 s, sys: 4.59 s, total: 55.4 s\n",
      "Wall time: 28 s\n"
     ]
    }
   ],
   "source": [
    "%%time\n",
    "predictor_nn = MLPClassifier(alpha=1, max_iter=1000).fit(X_train, y_train)\n",
    "y_pred_nn = predictor_nn.predict(X_test)\n",
    "print('NN accuracy: {}%'.format(round(np.mean(y_test == y_pred_nn), 2)))"
   ]
  },
  {
   "cell_type": "markdown",
   "metadata": {},
   "source": [
    "Таким образом, мы можем отделить в рамках этой задачи и этого датасета \n",
    "- плохонькие классификаторы (нелинейный SVM, AdaBoost, Naive Bayes), \n",
    "- хорошие (Logistic Regression, RandomForest, GradientBoosting, kNN, MultiLayer perceptron) \n",
    "- отличные (линейный SVM)"
   ]
  },
  {
   "cell_type": "markdown",
   "metadata": {},
   "source": [
    "Соответственно, мы можем можем подобрать лучшие параметры для этих классификаторов"
   ]
  },
  {
   "cell_type": "markdown",
   "metadata": {},
   "source": [
    "## Parameters tuning"
   ]
  },
  {
   "cell_type": "code",
   "execution_count": 18,
   "metadata": {},
   "outputs": [],
   "source": [
    "from sklearn.model_selection import GridSearchCV\n",
    "from sklearn.model_selection import StratifiedKFold\n",
    "from scipy.stats import expon\n",
    "\n",
    "skf = StratifiedKFold(n_splits=5, random_state=42)"
   ]
  },
  {
   "cell_type": "code",
   "execution_count": 19,
   "metadata": {},
   "outputs": [
    {
     "name": "stdout",
     "output_type": "stream",
     "text": [
      "RF accuracy on train:  0.5879396984924623\n",
      "RF accuracy on val: 0.58%\n",
      "f1_score:  0.561168493584013\n"
     ]
    }
   ],
   "source": [
    "#Random Forest\n",
    "warnings.filterwarnings('ignore')\n",
    "param_grid = {\n",
    "              'n_estimators':[10,100,500], \n",
    "              'criterion': ['gini', 'entropy'],\n",
    "              'max_depth': [2,3,4,5, None]\n",
    "              }\n",
    "\n",
    "RF_model = GridSearchCV(RandomForestClassifier(), param_grid, cv=skf, verbose=0, scoring='accuracy').fit(X_train, y_train)\n",
    "print(\"RF accuracy on train: \", RF_model.best_score_)\n",
    "y_pred_RF = RF_model.best_estimator_.predict(X_test)\n",
    "print('RF accuracy on val: {}%'.format(round(np.mean(y_test == y_pred_RF), 2)))\n",
    "print('f1_score: ', f1_score(y_test, y_pred_RF, average='weighted'))"
   ]
  },
  {
   "cell_type": "code",
   "execution_count": 20,
   "metadata": {
    "scrolled": true
   },
   "outputs": [
    {
     "name": "stdout",
     "output_type": "stream",
     "text": [
      "LR accuracy on train:  0.6381909547738693\n",
      "LR accuracy on val: 0.84%\n",
      "f1_score:  0.8320293040293041\n"
     ]
    }
   ],
   "source": [
    "#Logistic Regression\n",
    "param_grid = {\n",
    "              'C': expon(scale=1).rvs(size=10)+[1], \n",
    "              'tol': expon(scale=0.0005).rvs(size=10) + [1e-4],\n",
    "              }\n",
    "\n",
    "LR_model = GridSearchCV(LogisticRegression(), param_grid, cv=skf, verbose=0, scoring='accuracy').fit(X_train, y_train)\n",
    "print(\"LR accuracy on train: \", LR_model.best_score_)\n",
    "y_pred_LR = LR_model.best_estimator_.predict(X_test)\n",
    "print('LR accuracy on val: {}%'.format(round(np.mean(y_test == y_pred_LR), 2)))\n",
    "print('f1_score: ', f1_score(y_test, y_pred_LR, average='weighted'))"
   ]
  },
  {
   "cell_type": "code",
   "execution_count": 21,
   "metadata": {
    "scrolled": false
   },
   "outputs": [
    {
     "name": "stdout",
     "output_type": "stream",
     "text": [
      "GB accuracy on train:  0.7386934673366834\n",
      "GB accuracy on val: 0.72%\n",
      "f1_score:  0.7204615384615384\n"
     ]
    }
   ],
   "source": [
    "#Gradient Boosting\n",
    "param_grid = {\n",
    "              'learning_rate': expon(scale=0.1).rvs(size=10)+[0.1], #имитация RandomSearch\n",
    "              'n_estimators': [10, 50, 100]\n",
    "              }\n",
    "\n",
    "GB_model = GridSearchCV(GradientBoostingClassifier(), param_grid, cv=skf, verbose=0, scoring='accuracy').fit(X_train, y_train)\n",
    "print(\"GB accuracy on train: \", GB_model.best_score_)\n",
    "y_pred_GB = GB_model.best_estimator_.predict(X_test)\n",
    "print('GB accuracy on val: {}%'.format(round(np.mean(y_test == y_pred_GB), 2)))\n",
    "print('f1_score: ', f1_score(y_test, y_pred_GB, average='weighted'))"
   ]
  },
  {
   "cell_type": "code",
   "execution_count": 22,
   "metadata": {
    "scrolled": true
   },
   "outputs": [
    {
     "name": "stdout",
     "output_type": "stream",
     "text": [
      "kNN accuracy on train:  0.678391959798995\n",
      "kNN accuracy on val: 0.84%\n",
      "f1_score:  0.8608351648351649\n"
     ]
    }
   ],
   "source": [
    "#kNN\n",
    "param_grid = { \n",
    "              'n_neighbors': [1,2,3,4,5,6,7,8,9,10]\n",
    "              }\n",
    "\n",
    "kNN_model = GridSearchCV(KNeighborsClassifier(), param_grid, cv=skf, verbose=0, scoring='accuracy').fit(X_train, y_train)\n",
    "print(\"kNN accuracy on train: \", kNN_model.best_score_)\n",
    "y_pred_kNN = kNN_model.best_estimator_.predict(X_test)\n",
    "print('kNN accuracy on val: {}%'.format(round(np.mean(y_test == y_pred_kNN), 2)))\n",
    "print('f1_score: ', f1_score(y_test, y_pred_kNN, average='weighted'))"
   ]
  },
  {
   "cell_type": "code",
   "execution_count": 23,
   "metadata": {
    "scrolled": false
   },
   "outputs": [
    {
     "name": "stdout",
     "output_type": "stream",
     "text": [
      "NN accuracy on train:  0.7487437185929648\n",
      "NN accuracy on val: 0.92%\n",
      "f1_score:  0.9229215686274511\n"
     ]
    }
   ],
   "source": [
    "#MultiLayer Perceptron\n",
    "warnings.filterwarnings('ignore')\n",
    "param_grid = {\n",
    "              'alpha': [1e-4, 5e-4, 1e-3, 1e-2, 1e-1, 1], \n",
    "              'solver':['lbfgs', 'sgd', 'adam'],\n",
    "              'hidden_layer_sizes': [[100],[50],[100,100], [100,100,100]],\n",
    "              'activation':['identity', 'logistic', 'tanh', 'relu']\n",
    "              }\n",
    "\n",
    "NN_model = GridSearchCV(MLPClassifier(), param_grid, cv=skf, verbose=0, scoring='accuracy').fit(X_train, y_train)\n",
    "print(\"NN accuracy on train: \", NN_model.best_score_)\n",
    "y_pred_NN = NN_model.best_estimator_.predict(X_test)\n",
    "print('NN accuracy on val: {}%'.format(round(np.mean(y_test == y_pred_NN), 2)))\n",
    "print('f1_score: ', f1_score(y_test, y_pred_NN, average='weighted'))"
   ]
  },
  {
   "cell_type": "code",
   "execution_count": 24,
   "metadata": {
    "scrolled": false
   },
   "outputs": [
    {
     "name": "stdout",
     "output_type": "stream",
     "text": [
      "SVC accuracy on train:  0.7185929648241206\n",
      "SVC accuracy on val: 0.94%\n",
      "f1_score:  0.9385882352941176\n"
     ]
    }
   ],
   "source": [
    "#Linear SVC\n",
    "warnings.filterwarnings('ignore')\n",
    "param_grid = {\n",
    "              'C': expon(scale=1).rvs(size=10)+[1], \n",
    "              'tol': expon(scale=0.0005).rvs(size=10) + [1e-4]\n",
    "              }\n",
    "\n",
    "SVC_model = GridSearchCV(LinearSVC(), param_grid, cv=skf, verbose=0, scoring='accuracy').fit(X_train, y_train)\n",
    "print(\"SVC accuracy on train: \", SVC_model.best_score_)\n",
    "y_pred_SVC = SVC_model.best_estimator_.predict(X_test)\n",
    "print('SVC accuracy on val: {}%'.format(round(np.mean(y_test == y_pred_SVC), 2)))\n",
    "print('f1_score: ', f1_score(y_test, y_pred_SVC, average='weighted'))"
   ]
  },
  {
   "cell_type": "markdown",
   "metadata": {},
   "source": [
    "## Best results visualization "
   ]
  },
  {
   "cell_type": "code",
   "execution_count": 41,
   "metadata": {},
   "outputs": [],
   "source": [
    "from sklearn.metrics import roc_auc_score, precision_recall_curve"
   ]
  },
  {
   "cell_type": "code",
   "execution_count": 44,
   "metadata": {},
   "outputs": [
    {
     "name": "stdout",
     "output_type": "stream",
     "text": [
      "Neural Network  {'activation': 'tanh', 'alpha': 0.0001, 'hidden_layer_sizes': [100, 100, 100], 'solver': 'adam'} \n",
      "Result: 0.9229215686274511\n",
      "\n",
      "\n",
      "Linear SVC  {'C': 2.2860713103449877, 'tol': 0.0003936854888847022} \n",
      "Result: 0.9385882352941176\n"
     ]
    }
   ],
   "source": [
    "print(\"Neural Network \", NN_model.best_params_,\"\\nResult:\", f1_score(y_test, y_pred_NN, average='weighted'))\n",
    "print(\"\\n\\nLinear SVC \", SVC_model.best_params_, \"\\nResult:\", f1_score(y_test, y_pred_SVC, average='weighted'))"
   ]
  },
  {
   "cell_type": "markdown",
   "metadata": {},
   "source": [
    "Итак, лучшие результаты были с помощью трехслойного перцептрона (92%) и линейного SVC (94%). Посмотрим, на каких классах эти модели ошибаются."
   ]
  },
  {
   "cell_type": "code",
   "execution_count": 25,
   "metadata": {},
   "outputs": [],
   "source": [
    "def plot_confusion_matrix(cm, title='Contingency matrix'):\n",
    "    cm = cm.astype('float') / cm.sum(axis=1)[:, np.newaxis]\n",
    "\n",
    "    plt.figure(figsize=(7, 7))\n",
    "    plt.imshow(cm, interpolation='nearest', cmap=plt.cm.Blues)\n",
    "    plt.title(title, fontsize=20)\n",
    "    plt.colorbar()\n",
    "    tick_marks = [-0.5,0.5,1.5,2.5,3.5,4.5,5.5]\n",
    "    classes = le.classes_\n",
    "    plt.xticks(tick_marks, classes, rotation=45, size=14)\n",
    "    plt.yticks(tick_marks, classes, rotation=45,size=14)\n",
    "\n",
    "    thresh = cm.max() / 2.\n",
    "    for i, j in itertools.product(range(cm.shape[0]), range(cm.shape[1])):\n",
    "        plt.text(j, i, format(cm[i, j], '.2f'),\n",
    "                 horizontalalignment=\"center\",\n",
    "                 color=\"white\" if cm[i, j] > thresh else \"black\")\n",
    "\n",
    "    plt.tight_layout()\n",
    "    plt.ylabel('True label', fontsize=18)\n",
    "    plt.xlabel('Predicted label', fontsize=18)\n"
   ]
  },
  {
   "cell_type": "code",
   "execution_count": 62,
   "metadata": {},
   "outputs": [],
   "source": [
    "def y_binary_y_scores(model):\n",
    "    #для построения ROC кривой нужно бинарное отображение, построим y_test_binary по правилу угадал-не угадал\n",
    "    y_pred = model.best_estimator_.predict(X_test)\n",
    "    y_test_binary = (y_pred == y_test)\n",
    "#     probabilities = model.best_estimator_.predict_proba(X_test)\n",
    "    probabilities = model.best_estimator_.decision_function(X_test)\n",
    "    y_score = []\n",
    "    for i in range(len(y_pred)):\n",
    "        y_score.append(probabilities[i,y_pred[i]])\n",
    "    return y_test_binary, y_score"
   ]
  },
  {
   "cell_type": "code",
   "execution_count": 48,
   "metadata": {},
   "outputs": [],
   "source": [
    "def plot_ROC(model):\n",
    "    y_test_binary, y_score = y_binary_y_scores(model)\n",
    "    fpr, tpr, thresholds = roc_curve(y_test_binary,y_score)\n",
    "\n",
    "    plt.figure(figsize=(15, 5))\n",
    "    inds = np.argsort(fpr)\n",
    "    plt.plot(fpr[inds], tpr[inds])\n",
    "    plt.plot(fpr, tpr)\n",
    "    plt.grid(True)\n",
    "    plt.xlim(-0.1, 1.1)\n",
    "    plt.ylim(-0.1, 1.1)\n",
    "    plt.plot()\n",
    "\n",
    "    roc_auc = roc_auc_score(y_test_binary,y_score )\n",
    "    print('AUC score: {}'.format(roc_auc, 2))"
   ]
  },
  {
   "cell_type": "code",
   "execution_count": 42,
   "metadata": {},
   "outputs": [
    {
     "data": {
      "image/png": "[encoded data removed]",
      "text/plain": [
       "<Figure size 504x504 with 2 Axes>"
      ]
     },
     "metadata": {
      "needs_background": "light"
     },
     "output_type": "display_data"
    }
   ],
   "source": [
    "cmt_NN = confusion_matrix(y_test, y_pred_NN)\n",
    "plot_confusion_matrix(cmt_NN, title='Confusion Matrix, Neural Network')"
   ]
  },
  {
   "cell_type": "markdown",
   "metadata": {},
   "source": [
    "Какая красота! Существует небольшая неточность: класс \"world\" пару раз ошибочно определился как \"business\" и \"United Kindom (uk)\". А \"technology\" - как \"world\". Вообще путаница \"world\" и \"uk\" вполне понятна"
   ]
  },
  {
   "cell_type": "code",
   "execution_count": 61,
   "metadata": {},
   "outputs": [
    {
     "name": "stdout",
     "output_type": "stream",
     "text": [
      "AUC score: 0.8315217391304348\n"
     ]
    },
    {
     "data": {
      "image/png": "[encoded data removed]",
      "text/plain": [
       "<Figure size 1080x360 with 1 Axes>"
      ]
     },
     "metadata": {
      "needs_background": "light"
     },
     "output_type": "display_data"
    }
   ],
   "source": [
    "plot_ROC(NN_model)"
   ]
  },
  {
   "cell_type": "code",
   "execution_count": 65,
   "metadata": {},
   "outputs": [
    {
     "data": {
      "image/png": "[encoded data removed]",
      "text/plain": [
       "<Figure size 504x504 with 2 Axes>"
      ]
     },
     "metadata": {
      "needs_background": "light"
     },
     "output_type": "display_data"
    }
   ],
   "source": [
    "cmt_SVC = confusion_matrix(y_test, y_pred_SVC)\n",
    "plot_confusion_matrix(cmt_SVC, title='Confusion Matrix, SVC')"
   ]
  },
  {
   "cell_type": "markdown",
   "metadata": {},
   "source": [
    "Тоже здорово получилось! \"UK\" немного путается с \"world\", а \"business\" c \"technology\", что тоже очень понятно."
   ]
  },
  {
   "cell_type": "code",
   "execution_count": 66,
   "metadata": {},
   "outputs": [
    {
     "name": "stdout",
     "output_type": "stream",
     "text": [
      "AUC score: 0.8368794326241135\n"
     ]
    },
    {
     "data": {
      "image/png": "[encoded data removed]",
      "text/plain": [
       "<Figure size 1080x360 with 1 Axes>"
      ]
     },
     "metadata": {
      "needs_background": "light"
     },
     "output_type": "display_data"
    }
   ],
   "source": [
    "plot_ROC(SVC_model)"
   ]
  },
  {
   "cell_type": "markdown",
   "metadata": {},
   "source": [
    "Проведенный анализ показал, что линейный SVC дает такую же точность (даже чуть выше), как и 3-слойный перцептрон (93% f1 score), но первому требуется меньше секунды на предсказание, а нейронной сети - а то и полминуты."
   ]
  },
  {
   "cell_type": "code",
   "execution_count": null,
   "metadata": {},
   "outputs": [],
   "source": []
  }
 ],
 "metadata": {
  "kernelspec": {
   "display_name": "Python 3",
   "language": "python",
   "name": "python3"
  },
  "language_info": {
   "codemirror_mode": {
    "name": "ipython",
    "version": 3
   },
   "file_extension": ".py",
   "mimetype": "text/x-python",
   "name": "python",
   "nbconvert_exporter": "python",
   "pygments_lexer": "ipython3",
   "version": "3.6.9"
  }
 },
 "nbformat": 4,
 "nbformat_minor": 2
}
